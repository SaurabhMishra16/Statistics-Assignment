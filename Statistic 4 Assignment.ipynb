{
 "cells": [
  {
   "cell_type": "markdown",
   "id": "6952efa5-933a-41a7-a0dd-23416103f865",
   "metadata": {},
   "source": [
    "Q1: What is the difference between a t-test and a z-test? Provide an example scenario where you would\n",
    "use each type of test."
   ]
  },
  {
   "cell_type": "markdown",
   "id": "68ec2836-b6de-4804-9fa8-8024802ca15c",
   "metadata": {},
   "source": [
    "Both t-tests and z-tests are statistical hypothesis tests used to make inferences about population parameters based on sample data. However, they are used under different circumstances and assumptions.\n",
    "\n",
    "**1. t-test:**\n",
    "A t-test is used when you have a small sample size (typically less than 30) and when the population standard deviation is unknown. The t-test takes into account the variability within the sample and provides a more accurate estimate of the population parameter when the sample size is small.\n",
    "\n",
    "**Example scenario for using a t-test:**\n",
    "Suppose you are testing whether there is a significant difference in the average test scores of two groups of students (Group A and Group B) after a new teaching method was introduced. You collect test scores from 15 students in each group. Since the population standard deviations are unknown, you would use a t-test to compare the means of the two groups.\n",
    "\n",
    "**2. z-test:**\n",
    "A z-test is used when you have a relatively large sample size (typically greater than 30) and when the population standard deviation is known or can be assumed to be known. The z-test is more appropriate when the sample size is large because the sample mean is more likely to be representative of the population mean, and the normal distribution approximation is valid.\n",
    "\n",
    "**Example scenario for using a z-test:**\n",
    "Imagine you are analyzing the heights of a sample of 1000 adults in a city. You want to determine if the average height of this sample is significantly different from the known average height of adults in the entire country. Since you have a large sample size and the population standard deviation is known, you can use a z-test for this comparison."
   ]
  },
  {
   "cell_type": "markdown",
   "id": "9208500a-20d6-419b-b1fa-9365214eb0e6",
   "metadata": {},
   "source": [
    "Q2: Differentiate between one-tailed and two-tailed tests."
   ]
  },
  {
   "cell_type": "markdown",
   "id": "27214c85-affb-4a7b-89f8-99c024879630",
   "metadata": {},
   "source": [
    "**One-Tailed Test:**\n",
    "A one-tailed test, also known as a one-sided test, is a type of statistical hypothesis test where the alternative hypothesis focuses on a specific direction of difference or effect. In other words, it tests whether the sample data is significantly greater than or less than a certain value. The critical region for the test is only on one side of the distribution (either the upper tail or the lower tail).\n",
    "\n",
    "**Example of a one-tailed test:**\n",
    "Imagine a pharmaceutical company has developed a new drug they claim increases the average life expectancy of patients. To test this claim, they compare the life expectancy of patients who took the new drug to a historical average life expectancy. The null hypothesis (H0) would state that there is no difference in life expectancy between the two groups. The alternative hypothesis (Ha) for a one-tailed test might be that the new drug increases life expectancy. If the statistical analysis supports the alternative hypothesis, it would suggest that the new drug is indeed effective in increasing life expectancy.\n",
    "\n",
    "**Two-Tailed Test:**\n",
    "A two-tailed test, also known as a two-sided test, is a type of statistical hypothesis test where the alternative hypothesis is concerned with a difference or effect in either direction. It tests whether the sample data is significantly different from a certain value, without specifying whether it's greater or smaller. The critical region for the test is divided between both tails of the distribution.\n",
    "\n",
    "**Example of a two-tailed test:**\n",
    "Suppose a car manufacturer claims that a certain model of their cars has an average fuel efficiency of 40 miles per gallon (mpg). You decide to test this claim by collecting data from a sample of these cars and calculating their average fuel efficiency. The null hypothesis (H0) would be that the average fuel efficiency is 40 mpg. The alternative hypothesis (Ha) for a two-tailed test would be that the average fuel efficiency is not equal to 40 mpg. If the statistical analysis shows that the sample mean is significantly different from 40 mpg in either direction, it would suggest that the manufacturer's claim is not supported.\n",
    "\n"
   ]
  },
  {
   "cell_type": "markdown",
   "id": "3a7b18b1-e145-48fa-b973-5f345ecb639f",
   "metadata": {},
   "source": [
    "Q3: Explain the concept of Type 1 and Type 2 errors in hypothesis testing. Provide an example scenario for\n",
    "each type of error."
   ]
  },
  {
   "cell_type": "markdown",
   "id": "9d6ec432-1027-475f-8679-13a202c4aeb2",
   "metadata": {},
   "source": [
    "**Type I Error (False Positive):**\n",
    "A Type I error occurs when you reject the null hypothesis when it is actually true. In other words, you conclude that there is a significant effect or difference when, in reality, there is no such effect or difference. This error is also known as a false positive or alpha error and is denoted by the symbol \"α.\"\n",
    "\n",
    "**Example of Type I Error:**\n",
    "Imagine a clinical trial for a new medical treatment. The null hypothesis (H0) states that the treatment has no effect on patients' recovery time. The alternative hypothesis (Ha) suggests that the treatment does have an effect. If the researchers incorrectly reject the null hypothesis based on the data from the trial, and conclude that the treatment is effective when it's not, they have committed a Type I error. This could lead to unnecessary adoption of an ineffective treatment.\n",
    "\n",
    "**Type II Error (False Negative):**\n",
    "A Type II error occurs when you fail to reject the null hypothesis when it is actually false. In this case, you conclude that there is no significant effect or difference, even though such an effect or difference exists. This error is also known as a false negative or beta error and is denoted by the symbol \"β.\"\n",
    "\n",
    "**Example of Type II Error:**\n",
    "Continuing with the medical treatment example, suppose the null hypothesis (H0) now states that the treatment does have an effect on patients' recovery time. The alternative hypothesis (Ha) suggests that the treatment has no effect. If the researchers fail to reject the null hypothesis based on the data from the trial, and conclude that the treatment is not effective when it actually is, they have committed a Type II error. This could prevent a potentially beneficial treatment from being adopted.\n",
    "\n",
    "In summary:\n",
    "- **Type I Error:** Rejecting the null hypothesis when it's true (False Positive)\n",
    "- **Type II Error:** Failing to reject the null hypothesis when it's false (False Negative)\n",
    "\n",
    "Hypothesis testing aims to strike a balance between these two types of errors. The significance level (α) and the power of the test are factors that influence the likelihood of Type I and Type II errors. Increasing the significance level (α) can reduce the likelihood of Type II errors but increases the risk of Type I errors, and vice versa. Similarly, increasing the power of the test can reduce the likelihood of Type II errors but requires larger sample sizes."
   ]
  },
  {
   "cell_type": "markdown",
   "id": "7a0ed830-9621-4562-9523-453660110939",
   "metadata": {},
   "source": [
    "Q4: Explain Bayes's theorem with an example."
   ]
  },
  {
   "cell_type": "markdown",
   "id": "f84857ec-e4b8-4b7d-ac6b-d9529d50ee02",
   "metadata": {},
   "source": [
    "Bayes's Theorem is a fundamental concept in probability theory and statistics that allows you to update the probability of a hypothesis based on new evidence or information. It provides a way to incorporate prior knowledge (prior probability) and new data (likelihood) to calculate the revised probability (posterior probability) of the hypothesis being true.\n",
    "\n",
    "The formula for Bayes's Theorem is:\n",
    "\n",
    "P(A|B) = ( P(B|A) * P(A))/P(B)\n",
    "\n",
    "Where:\n",
    "- \\( P(A|B) \\) is the posterior probability of event A given event B.\n",
    "- \\( P(B|A) \\) is the likelihood of event B given event A.\n",
    "- \\( P(A) \\) is the prior probability of event A.\n",
    "- \\( P(B) \\) is the probability of event B.\n"
   ]
  },
  {
   "cell_type": "code",
   "execution_count": 1,
   "id": "940f9480-df72-4caf-ab65-d1a86e1fd4bf",
   "metadata": {},
   "outputs": [
    {
     "data": {
      "text/plain": [
       "0.425"
      ]
     },
     "execution_count": 1,
     "metadata": {},
     "output_type": "execute_result"
    }
   ],
   "source": [
    "#define function for Bayes' theorem\n",
    "def bayesTheorem(pA, pB, pBA):\n",
    "    return pA * pBA / pB\n",
    "\n",
    "#define probabilities\n",
    "pRain = 0.2\n",
    "pCloudy = 0.4\n",
    "pCloudyRain = 0.85\n",
    "\n",
    "#use function to calculate conditional probability\n",
    "bayesTheorem(pRain, pCloudy, pCloudyRain)\n"
   ]
  },
  {
   "cell_type": "markdown",
   "id": "a8001a0e-5198-4bda-ba18-c5943b53d633",
   "metadata": {},
   "source": [
    "Q5: What is a confidence interval? How to calculate the confidence interval, explain with an example."
   ]
  },
  {
   "cell_type": "markdown",
   "id": "61d27725-80d5-4d2a-9cae-6d20b272c2e0",
   "metadata": {},
   "source": [
    "A confidence interval is a range of values that is used to estimate the true value of a population parameter, such as the mean or the proportion, based on a sample from that population. It provides a measure of the uncertainty associated with the sample estimate and indicates the range within which the true population parameter is likely to fall.\n",
    "\n",
    "Confidence intervals are often used in statistical inference to quantify the level of confidence we have in the estimate. For example, if we calculate a 95% confidence interval for the mean, it means that we are 95% confident that the true population mean lies within the calculated interval.\n",
    "\n",
    "The formula to calculate a confidence interval depends on the parameter being estimated and the distribution of the sample statistic. Here's a general formula for calculating a confidence interval for a population mean (assuming a normal distribution):\n",
    "\n",
    "Confidence Interval = Sample Mean +- Margin of Error\n",
    "\n",
    "The margin of error depends on the level of confidence (typically denoted as \\(1 - \\alpha\\), where \\(\\alpha\\) is the significance level) and the standard error of the sample mean. The standard error reflects the variability of the sample mean.\n"
   ]
  },
  {
   "cell_type": "code",
   "execution_count": 2,
   "id": "2a11f460-5f05-474c-809d-8e2dfc618b4a",
   "metadata": {},
   "outputs": [
    {
     "name": "stdout",
     "output_type": "stream",
     "text": [
      "Sample Mean: 66.2\n",
      "Confidence Interval: (64.29835223544127, 68.10164776455873)\n"
     ]
    }
   ],
   "source": [
    "import numpy as np\n",
    "from scipy import stats\n",
    "\n",
    "# Sample data\n",
    "data = np.array([62, 68, 65, 70, 63, 67, 64, 69, 66, 68])\n",
    "\n",
    "# Confidence level (e.g., 95%)\n",
    "confidence_level = 0.95\n",
    "\n",
    "# Calculate sample statistics\n",
    "sample_mean = np.mean(data)\n",
    "sample_std = np.std(data, ddof=1)  # ddof=1 for sample standard deviation\n",
    "sample_size = len(data)\n",
    "\n",
    "# Calculate standard error\n",
    "standard_error = sample_std / np.sqrt(sample_size)\n",
    "\n",
    "# Calculate t-score for the desired confidence level and degrees of freedom\n",
    "t_score = stats.t.ppf((1 + confidence_level) / 2, df=sample_size - 1)\n",
    "\n",
    "# Calculate margin of error\n",
    "margin_of_error = t_score * standard_error\n",
    "\n",
    "# Calculate confidence interval\n",
    "confidence_interval = (sample_mean - margin_of_error, sample_mean + margin_of_error)\n",
    "\n",
    "print(\"Sample Mean:\", sample_mean)\n",
    "print(\"Confidence Interval:\", confidence_interval)\n"
   ]
  },
  {
   "cell_type": "markdown",
   "id": "9f7c2cd8-c30e-4372-9d9f-b2c00d8aecaf",
   "metadata": {},
   "source": [
    "Q6. Use Bayes' Theorem to calculate the probability of an event occurring given prior knowledge of the\n",
    "event's probability and new evidence. Provide a sample problem and solution."
   ]
  },
  {
   "cell_type": "markdown",
   "id": "248645a1-6899-4ff8-98ad-d9daa6301fad",
   "metadata": {},
   "source": [
    "Suppose you are a quality control manager at a factory that produces electronic components. You know that 5% of the components produced are defective. You also know that the testing machine has a false positive rate of 2% (it reports a component as defective when it's actually not), and a false negative rate of 1% (it fails to detect a defective component). If a randomly selected component is tested and the machine reports it as defective, what is the probability that the component is actually defective?"
   ]
  },
  {
   "cell_type": "code",
   "execution_count": 3,
   "id": "a8edf8bc-c30f-4a5d-993d-e3e6dbfaceb3",
   "metadata": {},
   "outputs": [
    {
     "name": "stdout",
     "output_type": "stream",
     "text": [
      "Probability of being defective given testing defective: 0.7226277372262774\n"
     ]
    }
   ],
   "source": [
    "# Given probabilities\n",
    "p_d = 0.05  # Prior probability of being defective\n",
    "p_t_given_d = 0.99  # Probability of testing defective given it's defective\n",
    "p_t_given_not_d = 0.02  # Probability of testing defective given it's not defective\n",
    "\n",
    "# Calculate the total probability of testing defective\n",
    "p_t = p_t_given_d * p_d + p_t_given_not_d * (1 - p_d)\n",
    "\n",
    "# Calculate the posterior probability of being defective given testing defective\n",
    "p_d_given_t = (p_t_given_d * p_d) / p_t\n",
    "\n",
    "print(\"Probability of being defective given testing defective:\", p_d_given_t)\n"
   ]
  },
  {
   "cell_type": "markdown",
   "id": "b74149f8-583f-4107-b701-95dc52d7b11a",
   "metadata": {},
   "source": [
    "Q7. Calculate the 95% confidence interval for a sample of data with a mean of 50 and a standard deviation\n",
    "of 5. Interpret the results."
   ]
  },
  {
   "cell_type": "code",
   "execution_count": 5,
   "id": "69b5a5ba-508c-471b-96c1-7ae5953e44fa",
   "metadata": {},
   "outputs": [
    {
     "name": "stdout",
     "output_type": "stream",
     "text": [
      "Sample Mean: 50\n",
      "Confidence Interval: (48.21077297881646, 51.78922702118354)\n"
     ]
    }
   ],
   "source": [
    "sample_mean = 50\n",
    "sample_std = 5\n",
    "sample_size = 30  # Assuming a reasonable sample size\n",
    "\n",
    "# Calculate standard error\n",
    "standard_error = sample_std / np.sqrt(sample_size)\n",
    "\n",
    "# Calculate the critical value for a 95% confidence interval\n",
    "critical_value = 1.96\n",
    "\n",
    "# Calculate the margin of error\n",
    "margin_of_error = critical_value * standard_error\n",
    "\n",
    "# Calculate confidence interval\n",
    "confidence_interval = (sample_mean - margin_of_error, sample_mean + margin_of_error)\n",
    "\n",
    "print(\"Sample Mean:\", sample_mean)\n",
    "print(\"Confidence Interval:\", confidence_interval)\n"
   ]
  },
  {
   "cell_type": "markdown",
   "id": "5fe19896-8c6a-4d0b-b2fa-581c40c2cf0d",
   "metadata": {},
   "source": [
    "Q8. What is the margin of error in a confidence interval? How does sample size affect the margin of error?\n",
    "Provide an example of a scenario where a larger sample size would result in a smaller margin of error."
   ]
  },
  {
   "cell_type": "markdown",
   "id": "96296d39-4fc5-4c3b-8577-0509954b4471",
   "metadata": {},
   "source": [
    "The margin of error (MOE) in a confidence interval is a measure of how much the sample estimate (e.g., sample mean or proportion) is expected to vary from the true population parameter. It represents the range within which we believe the true population parameter is likely to lie. The larger the margin of error, the less confident we are in the accuracy of our estimate.\n",
    "\n",
    "The formula for the margin of error depends on factors such as the level of confidence, the variability of the sample data, and the sample size. In general, the margin of error is calculated as the product of a critical value (usually obtained from a statistical distribution like the normal or t-distribution) and the standard error of the sample statistic.\n",
    "\n",
    "Sample size has a significant impact on the margin of error. As the sample size increases, the margin of error tends to decrease. This is because larger samples provide more information about the population and thus reduce the uncertainty in the estimate.\n",
    "\n",
    "**Example Scenario:**\n",
    "Imagine you are conducting a political poll to estimate the proportion of voters who support a particular candidate. You want to calculate a confidence interval with a 95% confidence level.\n",
    "\n",
    "Scenario 1: Small Sample Size\n",
    "If you survey only 50 voters, the margin of error will likely be larger. This means that the confidence interval will be wider, and your estimate of the proportion of supporters will be less precise.\n",
    "\n",
    "Scenario 2: Large Sample Size\n",
    "Now, if you survey 1000 voters, the margin of error will be smaller. The confidence interval will be narrower, and your estimate of the proportion of supporters will be more precise.\n",
    "\n",
    "In both scenarios, you might use the same level of confidence (e.g., 95%), but the larger sample size in the second scenario leads to a smaller margin of error. This demonstrates the trade-off between precision and sample size in estimation. A larger sample size provides more information and reduces the uncertainty associated with the estimate, resulting in a smaller margin of error."
   ]
  },
  {
   "cell_type": "markdown",
   "id": "51c432c7-76b0-4fd6-a032-4aba1a381e33",
   "metadata": {},
   "source": [
    "Q9. Calculate the z-score for a data point with a value of 75, a population mean of 70, and a population\n",
    "standard deviation of 5. Interpret the results."
   ]
  },
  {
   "cell_type": "markdown",
   "id": "8e1f0463-8bd3-419e-a49c-af048366ac5e",
   "metadata": {},
   "source": [
    "The z-score (also known as the standard score) measures how many standard deviations a data point is away from the mean of the population. It's calculated using the formula:\n",
    "\n",
    "z = (x - \\mu)/{\\sigma} \\\n",
    "\n",
    "Where:\n",
    "- \\( x \\) is the data point's value (75 in this case).\n",
    "- \\( \\mu \\) is the population mean (70 in this case).\n",
    "- \\( \\sigma \\) is the population standard deviation (5 in this case).\n",
    "\n",
    "Let's calculate the z-score and interpret the result:\n",
    "\n",
    " z = {75 - 70}/{5} = 1\n",
    "\n",
    "Interpretation:\n",
    "The calculated z-score of 1 means that the data point with a value of 75 is 1 standard deviation above the population mean of 70. This indicates that the data point is relatively close to the mean of the population. Since the z-score is positive, it suggests that the data point is on the right side of the distribution (above the mean). The z-score provides a standardized measure of how much the data point deviates from the mean in terms of standard deviations."
   ]
  },
  {
   "cell_type": "markdown",
   "id": "c47b354c-cb4f-4dac-b7d6-d01e3cbc7949",
   "metadata": {},
   "source": [
    "Q10. In a study of the effectiveness of a new weight loss drug, a sample of 50 participants lost an average\n",
    "of 6 pounds with a standard deviation of 2.5 pounds. Conduct a hypothesis test to determine if the drug is\n",
    "significantly effective at a 95% confidence level using a t-test."
   ]
  },
  {
   "cell_type": "code",
   "execution_count": null,
   "id": "35f0705a-576d-4706-9671-ef9f2a53f2cf",
   "metadata": {},
   "outputs": [
    {
     "name": "stdout",
     "output_type": "stream",
     "text": [
      "Reject the null hypothesis. The drug is significantly effective.\n"
     ]
    }
   ],
   "source": [
    "import numpy as np\n",
    "from scipy import stats\n",
    "\n",
    "# Given sample data\n",
    "sample_mean = 6\n",
    "sample_std = 2.5\n",
    "sample_size = 50\n",
    "\n",
    "# Population parameters under the null hypothesis (no effect)\n",
    "population_mean_null = 0  # Assuming no weight loss under the null hypothesis\n",
    "\n",
    "# Calculate t-statistic\n",
    "t_statistic = (sample_mean - population_mean_null) / (sample_std / np.sqrt(sample_size))\n",
    "\n",
    "# Calculate degrees of freedom\n",
    "degrees_of_freedom = sample_size - 1\n",
    "\n",
    "# Calculate p-value for a two-tailed t-test\n",
    "p_value = 2 * (1 - stats.t.cdf(abs(t_statistic), df=degrees_of_freedom))\n",
    "\n",
    "# Set significance level (alpha)\n",
    "alpha = 0.05\n",
    "\n",
    "# Check if p-value is less than alpha to reject the null hypothesis\n",
    "if p_value < alpha:\n",
    "    print(\"Reject the null hypothesis. The drug is significantly effective.\")\n",
    "else:\n",
    "    print(\"Fail to reject the null hypothesis. There is no significant evidence of effectiveness.\")\n"
   ]
  },
  {
   "cell_type": "markdown",
   "id": "f1b4bcf8-7327-4b02-981d-081147660e2c",
   "metadata": {},
   "source": [
    "Q11. In a survey of 500 people, 65% reported being satisfied with their current job. Calculate the 95%\n",
    "confidence interval for the true proportion of people who are satisfied with their job."
   ]
  },
  {
   "cell_type": "code",
   "execution_count": 7,
   "id": "b588ca6f-4fb6-4389-9bb3-0a03d7f5cd1d",
   "metadata": {},
   "outputs": [
    {
     "name": "stdout",
     "output_type": "stream",
     "text": [
      "Sample Proportion: 0.65\n",
      "Confidence Interval: (0.6081925393809212, 0.6918074606190788)\n"
     ]
    }
   ],
   "source": [
    "import numpy as np\n",
    "from scipy.stats import norm\n",
    "\n",
    "# Given values\n",
    "sample_proportion = 0.65  # 65%\n",
    "sample_size = 500\n",
    "\n",
    "# Calculate standard error of the sample proportion\n",
    "standard_error = np.sqrt((sample_proportion * (1 - sample_proportion)) / sample_size)\n",
    "\n",
    "# Calculate the critical value for a 95% confidence interval\n",
    "critical_value = norm.ppf(0.975)  # 0.975 for two-tailed 95% confidence interval\n",
    "\n",
    "# Calculate the margin of error\n",
    "margin_of_error = critical_value * standard_error\n",
    "\n",
    "# Calculate confidence interval\n",
    "confidence_interval = (sample_proportion - margin_of_error, sample_proportion + margin_of_error)\n",
    "\n",
    "print(\"Sample Proportion:\", sample_proportion)\n",
    "print(\"Confidence Interval:\", confidence_interval)\n"
   ]
  },
  {
   "cell_type": "markdown",
   "id": "dd669b8d-b72e-40f4-a340-e0d7cb51aec8",
   "metadata": {},
   "source": [
    "Q12. A researcher is testing the effectiveness of two different teaching methods on student performance.\n",
    "Sample A has a mean score of 85 with a standard deviation of 6, while sample B has a mean score of 82\n",
    "with a standard deviation of 5. Conduct a hypothesis test to determine if the two teaching methods have a\n",
    "significant difference in student performance using a t-test with a significance level of 0.01."
   ]
  },
  {
   "cell_type": "code",
   "execution_count": 8,
   "id": "893481bf-5de1-47b2-bd60-eb87b64a2e56",
   "metadata": {},
   "outputs": [
    {
     "name": "stdout",
     "output_type": "stream",
     "text": [
      "Fail to reject the null hypothesis. There is no significant difference in student performance between the two teaching methods.\n"
     ]
    }
   ],
   "source": [
    "import numpy as np\n",
    "from scipy import stats\n",
    "\n",
    "# Given sample data for two teaching methods\n",
    "sample_A_mean = 85\n",
    "sample_A_std = 6\n",
    "sample_A_size = 30  # Assuming reasonable sample size\n",
    "\n",
    "sample_B_mean = 82\n",
    "sample_B_std = 5\n",
    "sample_B_size = 35  # Assuming reasonable sample size\n",
    "\n",
    "# Set significance level (alpha)\n",
    "alpha = 0.01\n",
    "\n",
    "# Calculate the pooled standard deviation\n",
    "pooled_std = np.sqrt(((sample_A_size - 1) * sample_A_std ** 2 + (sample_B_size - 1) * sample_B_std ** 2) / (sample_A_size + sample_B_size - 2))\n",
    "\n",
    "# Calculate the t-statistic\n",
    "t_statistic = (sample_A_mean - sample_B_mean) / (pooled_std * np.sqrt((1 / sample_A_size) + (1 / sample_B_size)))\n",
    "\n",
    "# Calculate degrees of freedom\n",
    "degrees_of_freedom = sample_A_size + sample_B_size - 2\n",
    "\n",
    "# Calculate the p-value for a two-tailed t-test\n",
    "p_value = 2 * (1 - stats.t.cdf(abs(t_statistic), df=degrees_of_freedom))\n",
    "\n",
    "# Check if p-value is less than alpha to reject the null hypothesis\n",
    "if p_value < alpha:\n",
    "    print(\"Reject the null hypothesis. The two teaching methods have a significant difference in student performance.\")\n",
    "else:\n",
    "    print(\"Fail to reject the null hypothesis. There is no significant difference in student performance between the two teaching methods.\")\n"
   ]
  },
  {
   "cell_type": "markdown",
   "id": "cf55b9ba-9547-4f43-a750-03740919b9fc",
   "metadata": {},
   "source": [
    "Q13. A population has a mean of 60 and a standard deviation of 8. A sample of 50 observations has a mean\n",
    "of 65. Calculate the 90% confidence interval for the true population mean."
   ]
  },
  {
   "cell_type": "code",
   "execution_count": 9,
   "id": "450a4934-0556-4738-b8c0-b8d0c2fc808f",
   "metadata": {},
   "outputs": [
    {
     "name": "stdout",
     "output_type": "stream",
     "text": [
      "Sample Mean: 65\n",
      "Confidence Interval: (63.10319919251691, 66.89680080748309)\n"
     ]
    }
   ],
   "source": [
    "import numpy as np\n",
    "from scipy.stats import t\n",
    "\n",
    "# Given values\n",
    "sample_mean = 65\n",
    "population_mean = 60\n",
    "population_std = 8\n",
    "sample_size = 50\n",
    "\n",
    "# Set confidence level (e.g., 90%)\n",
    "confidence_level = 0.90\n",
    "\n",
    "# Calculate standard error of the sample mean\n",
    "standard_error = population_std / np.sqrt(sample_size)\n",
    "\n",
    "# Calculate degrees of freedom\n",
    "degrees_of_freedom = sample_size - 1\n",
    "\n",
    "# Calculate the critical value for a 90% confidence interval using t-distribution\n",
    "critical_value = t.ppf(1 - (1 - confidence_level) / 2, df=degrees_of_freedom)\n",
    "\n",
    "# Calculate margin of error\n",
    "margin_of_error = critical_value * standard_error\n",
    "\n",
    "# Calculate confidence interval\n",
    "confidence_interval = (sample_mean - margin_of_error, sample_mean + margin_of_error)\n",
    "\n",
    "print(\"Sample Mean:\", sample_mean)\n",
    "print(\"Confidence Interval:\", confidence_interval)\n"
   ]
  },
  {
   "cell_type": "markdown",
   "id": "ddfcfe30-670f-4409-9845-c2f22399cb25",
   "metadata": {},
   "source": [
    "Q14. In a study of the effects of caffeine on reaction time, a sample of 30 participants had an average\n",
    "reaction time of 0.25 seconds with a standard deviation of 0.05 seconds. Conduct a hypothesis test to\n",
    "determine if the caffeine has a significant effect on reaction time at a 90% confidence level using a t-test."
   ]
  },
  {
   "cell_type": "code",
   "execution_count": 10,
   "id": "25e7ef7b-354b-4216-a895-1529d40795f9",
   "metadata": {},
   "outputs": [
    {
     "name": "stdout",
     "output_type": "stream",
     "text": [
      "Reject the null hypothesis. Caffeine has a significant effect on reaction time.\n"
     ]
    }
   ],
   "source": [
    "import numpy as np\n",
    "from scipy import stats\n",
    "\n",
    "# Given sample data\n",
    "sample_mean = 0.25  # Average reaction time\n",
    "sample_std = 0.05  # Standard deviation\n",
    "sample_size = 30  # Sample size\n",
    "\n",
    "# Population parameters under the null hypothesis (no effect of caffeine)\n",
    "population_mean_null = 0.28  # Hypothesized population mean\n",
    "\n",
    "# Set confidence level (e.g., 90%)\n",
    "confidence_level = 0.90\n",
    "\n",
    "# Calculate t-statistic\n",
    "t_statistic = (sample_mean - population_mean_null) / (sample_std / np.sqrt(sample_size))\n",
    "\n",
    "# Calculate degrees of freedom\n",
    "degrees_of_freedom = sample_size - 1\n",
    "\n",
    "# Calculate p-value for a one-tailed t-test (lower tail)\n",
    "p_value = stats.t.cdf(t_statistic, df=degrees_of_freedom)\n",
    "\n",
    "# Check if p-value is less than alpha to reject the null hypothesis\n",
    "if p_value < (1 - confidence_level):\n",
    "    print(\"Reject the null hypothesis. Caffeine has a significant effect on reaction time.\")\n",
    "else:\n",
    "    print(\"Fail to reject the null hypothesis. There is no significant evidence of caffeine's effect on reaction time.\")\n"
   ]
  },
  {
   "cell_type": "code",
   "execution_count": null,
   "id": "884e7ae2-d355-4f64-84b2-f130a9a9b751",
   "metadata": {},
   "outputs": [],
   "source": []
  }
 ],
 "metadata": {
  "kernelspec": {
   "display_name": "Python 3 (ipykernel)",
   "language": "python",
   "name": "python3"
  },
  "language_info": {
   "codemirror_mode": {
    "name": "ipython",
    "version": 3
   },
   "file_extension": ".py",
   "mimetype": "text/x-python",
   "name": "python",
   "nbconvert_exporter": "python",
   "pygments_lexer": "ipython3",
   "version": "3.10.8"
  }
 },
 "nbformat": 4,
 "nbformat_minor": 5
}
