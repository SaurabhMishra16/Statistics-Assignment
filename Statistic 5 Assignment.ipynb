{
 "cells": [
  {
   "cell_type": "markdown",
   "id": "d4eef445-8f64-4bde-afa3-140afd2475d2",
   "metadata": {},
   "source": [
    "Q1. Calculate the 95% confidence interval for a sample of data with a mean of 50 and a standard deviation\n",
    "of 5 using Python. Interpret the results."
   ]
  },
  {
   "cell_type": "code",
   "execution_count": 1,
   "id": "40fc5eb5-361d-48df-8046-d9e7ff639089",
   "metadata": {},
   "outputs": [
    {
     "name": "stdout",
     "output_type": "stream",
     "text": [
      "Sample Mean: 50\n",
      "Confidence Interval: (49.02001800772997, 50.97998199227003)\n"
     ]
    }
   ],
   "source": [
    "import numpy as np\n",
    "from scipy.stats import norm\n",
    "\n",
    "# Given values\n",
    "sample_mean = 50\n",
    "sample_std = 5\n",
    "sample_size = 100  # Assuming a reasonable sample size\n",
    "\n",
    "# Set confidence level (e.g., 95%)\n",
    "confidence_level = 0.95\n",
    "\n",
    "# Calculate standard error of the sample mean\n",
    "standard_error = sample_std / np.sqrt(sample_size)\n",
    "\n",
    "# Calculate the critical value for a 95% confidence interval using the normal distribution\n",
    "critical_value = norm.ppf((1 + confidence_level) / 2)\n",
    "\n",
    "# Calculate margin of error\n",
    "margin_of_error = critical_value * standard_error\n",
    "\n",
    "# Calculate confidence interval\n",
    "confidence_interval = (sample_mean - margin_of_error, sample_mean + margin_of_error)\n",
    "\n",
    "print(\"Sample Mean:\", sample_mean)\n",
    "print(\"Confidence Interval:\", confidence_interval)\n"
   ]
  },
  {
   "cell_type": "markdown",
   "id": "5697e1ed-f60e-4b2d-8619-84609bd7cda4",
   "metadata": {},
   "source": [
    "Q2. Conduct a chi-square goodness of fit test to determine if the distribution of colors of M&Ms in a bag\n",
    "matches the expected distribution of 20% blue, 20% orange, 20% green, 10% yellow, 10% red, and 20%\n",
    "brown. Use Python to perform the test with a significance level of 0.05."
   ]
  },
  {
   "cell_type": "code",
   "execution_count": 2,
   "id": "ba649fe3-0bea-40b5-983a-63b8e3ec7028",
   "metadata": {},
   "outputs": [
    {
     "name": "stdout",
     "output_type": "stream",
     "text": [
      "Fail to reject the null hypothesis. The distribution of colors matches the expected distribution.\n"
     ]
    }
   ],
   "source": [
    "import numpy as np\n",
    "from scipy.stats import chisquare\n",
    "\n",
    "# Observed frequencies of colors in the bag (replace with actual observed values)\n",
    "observed_frequencies = np.array([25, 22, 18, 12, 10, 23])  # Blue, Orange, Green, Yellow, Red, Brown\n",
    "\n",
    "# Expected frequencies based on the expected distribution\n",
    "expected_frequencies = np.array([0.20, 0.20, 0.20, 0.10, 0.10, 0.20]) * np.sum(observed_frequencies)\n",
    "\n",
    "# Perform the chi-square goodness of fit test\n",
    "chi2_statistic, p_value = chisquare(observed_frequencies, f_exp=expected_frequencies)\n",
    "\n",
    "# Set significance level (alpha)\n",
    "alpha = 0.05\n",
    "\n",
    "# Check if p-value is less than alpha to reject the null hypothesis\n",
    "if p_value < alpha:\n",
    "    print(\"Reject the null hypothesis. The distribution of colors does not match the expected distribution.\")\n",
    "else:\n",
    "    print(\"Fail to reject the null hypothesis. The distribution of colors matches the expected distribution.\")\n"
   ]
  },
  {
   "cell_type": "markdown",
   "id": "a6abac2a-5065-4a5e-9520-c8039db76650",
   "metadata": {},
   "source": [
    "Q3. Use Python to calculate the chi-square statistic and p-value for a contingency table with the following"
   ]
  },
  {
   "cell_type": "code",
   "execution_count": 3,
   "id": "1acdcbd0-8faa-43e8-89f4-e3342a7eb7d8",
   "metadata": {},
   "outputs": [
    {
     "name": "stdout",
     "output_type": "stream",
     "text": [
      "Chi-Square Statistic: 5.833333333333334\n",
      "P-value: 0.05411376622282158\n"
     ]
    }
   ],
   "source": [
    "import numpy as np\n",
    "from scipy.stats import chi2_contingency\n",
    "\n",
    "# Given contingency table\n",
    "contingency_table = np.array([[20, 15],\n",
    "                              [10, 25],\n",
    "                              [15, 20]])\n",
    "\n",
    "# Perform the chi-square test for independence\n",
    "chi2_statistic, p_value, _, _ = chi2_contingency(contingency_table)\n",
    "\n",
    "print(\"Chi-Square Statistic:\", chi2_statistic)\n",
    "print(\"P-value:\", p_value)\n"
   ]
  },
  {
   "cell_type": "markdown",
   "id": "3335f32e-c776-439e-86c8-57b1918a1ccc",
   "metadata": {},
   "source": [
    "Q4. A study of the prevalence of smoking in a population of 500 individuals found that 60 individuals\n",
    "smoked. Use Python to calculate the 95% confidence interval for the true proportion of individuals in the\n",
    "population who smoke."
   ]
  },
  {
   "cell_type": "code",
   "execution_count": 4,
   "id": "921082d5-624a-453c-91e7-ca783fda479b",
   "metadata": {},
   "outputs": [
    {
     "name": "stdout",
     "output_type": "stream",
     "text": [
      "Sample Proportion: 0.12\n",
      "Confidence Interval: (0.09151638887130707, 0.1484836111286929)\n"
     ]
    }
   ],
   "source": [
    "import numpy as np\n",
    "from scipy.stats import norm\n",
    "\n",
    "# Given values\n",
    "sample_proportion = 60 / 500  # Proportion of individuals who smoke\n",
    "sample_size = 500\n",
    "\n",
    "# Set confidence level (e.g., 95%)\n",
    "confidence_level = 0.95\n",
    "\n",
    "# Calculate standard error of the sample proportion\n",
    "standard_error = np.sqrt((sample_proportion * (1 - sample_proportion)) / sample_size)\n",
    "\n",
    "# Calculate the critical value for a 95% confidence interval using the normal distribution\n",
    "critical_value = norm.ppf((1 + confidence_level) / 2)\n",
    "\n",
    "# Calculate margin of error\n",
    "margin_of_error = critical_value * standard_error\n",
    "\n",
    "# Calculate confidence interval\n",
    "confidence_interval = (sample_proportion - margin_of_error, sample_proportion + margin_of_error)\n",
    "\n",
    "print(\"Sample Proportion:\", sample_proportion)\n",
    "print(\"Confidence Interval:\", confidence_interval)\n"
   ]
  },
  {
   "cell_type": "markdown",
   "id": "a061cfff-bf8b-4db8-bad7-95eae283ae6a",
   "metadata": {},
   "source": [
    "Q5. Calculate the 90% confidence interval for a sample of data with a mean of 75 and a standard deviation\n",
    "of 12 using Python. Interpret the results."
   ]
  },
  {
   "cell_type": "code",
   "execution_count": 5,
   "id": "809ca7b0-d185-47d8-8407-f457461cf4a8",
   "metadata": {},
   "outputs": [
    {
     "name": "stdout",
     "output_type": "stream",
     "text": [
      "Sample Mean: 75\n",
      "Confidence Interval: (72.15479878877537, 77.84520121122463)\n"
     ]
    }
   ],
   "source": [
    "import numpy as np\n",
    "from scipy.stats import t\n",
    "\n",
    "# Given values\n",
    "sample_mean = 75\n",
    "sample_std = 12\n",
    "sample_size = 50  # Assuming a reasonable sample size\n",
    "\n",
    "# Set confidence level (e.g., 90%)\n",
    "confidence_level = 0.90\n",
    "\n",
    "# Calculate standard error of the sample mean\n",
    "standard_error = sample_std / np.sqrt(sample_size)\n",
    "\n",
    "# Calculate degrees of freedom\n",
    "degrees_of_freedom = sample_size - 1\n",
    "\n",
    "# Calculate the critical value for a 90% confidence interval using t-distribution\n",
    "critical_value = t.ppf(1 - (1 - confidence_level) / 2, df=degrees_of_freedom)\n",
    "\n",
    "# Calculate margin of error\n",
    "margin_of_error = critical_value * standard_error\n",
    "\n",
    "# Calculate confidence interval\n",
    "confidence_interval = (sample_mean - margin_of_error, sample_mean + margin_of_error)\n",
    "\n",
    "print(\"Sample Mean:\", sample_mean)\n",
    "print(\"Confidence Interval:\", confidence_interval)\n"
   ]
  },
  {
   "cell_type": "markdown",
   "id": "139d835b-9306-4083-ac5b-36871c74a66f",
   "metadata": {},
   "source": [
    "Q6. Use Python to plot the chi-square distribution with 10 degrees of freedom. Label the axes and shade the\n",
    "area corresponding to a chi-square statistic of 15."
   ]
  },
  {
   "cell_type": "code",
   "execution_count": 6,
   "id": "80c7dc11-c10d-4f9e-a5e7-57d145b1b9df",
   "metadata": {},
   "outputs": [
    {
     "data": {
      "image/png": "[encoded data removed]",
      "text/plain": [
       "<Figure size 640x480 with 1 Axes>"
      ]
     },
     "metadata": {},
     "output_type": "display_data"
    }
   ],
   "source": [
    "import numpy as np\n",
    "import matplotlib.pyplot as plt\n",
    "from scipy.stats import chi2\n",
    "\n",
    "# Degrees of freedom\n",
    "df = 10\n",
    "\n",
    "# Create a range of x values for the plot\n",
    "x = np.linspace(0, 30, 1000)\n",
    "\n",
    "# Calculate the chi-square probability density function (PDF) for each x value\n",
    "pdf = chi2.pdf(x, df)\n",
    "\n",
    "# Create the plot\n",
    "plt.plot(x, pdf, label=f'DF = {df}')\n",
    "plt.xlabel('Chi-Square Statistic')\n",
    "plt.ylabel('Probability Density Function')\n",
    "plt.title('Chi-Square Distribution')\n",
    "plt.axvline(x=15, color='red', linestyle='--', label='x = 15')\n",
    "plt.fill_between(x, pdf, where=(x >= 15), color='red', alpha=0.3)\n",
    "plt.legend()\n",
    "plt.grid()\n",
    "\n",
    "# Show the plot\n",
    "plt.show()\n"
   ]
  },
  {
   "cell_type": "markdown",
   "id": "93913204-b6fb-433e-a228-e4747ea8e31a",
   "metadata": {},
   "source": [
    "Q7. A random sample of 1000 people was asked if they preferred Coke or Pepsi. Of the sample, 520\n",
    "preferred Coke. Calculate a 99% confidence interval for the true proportion of people in the population who\n",
    "prefer Coke."
   ]
  },
  {
   "cell_type": "code",
   "execution_count": 7,
   "id": "e4509a8e-8aed-47bf-be40-b2830cc57a30",
   "metadata": {},
   "outputs": [
    {
     "name": "stdout",
     "output_type": "stream",
     "text": [
      "Sample Proportion: 0.52\n",
      "Confidence Interval: (0.4793051576779699, 0.5606948423220302)\n"
     ]
    }
   ],
   "source": [
    "import numpy as np\n",
    "from scipy.stats import norm\n",
    "\n",
    "# Given values\n",
    "sample_proportion = 520 / 1000  # Proportion of people who prefer Coke\n",
    "sample_size = 1000\n",
    "\n",
    "# Set confidence level (e.g., 99%)\n",
    "confidence_level = 0.99\n",
    "\n",
    "# Calculate standard error of the sample proportion\n",
    "standard_error = np.sqrt((sample_proportion * (1 - sample_proportion)) / sample_size)\n",
    "\n",
    "# Calculate the critical value for a 99% confidence interval using the normal distribution\n",
    "critical_value = norm.ppf((1 + confidence_level) / 2)\n",
    "\n",
    "# Calculate margin of error\n",
    "margin_of_error = critical_value * standard_error\n",
    "\n",
    "# Calculate confidence interval\n",
    "confidence_interval = (sample_proportion - margin_of_error, sample_proportion + margin_of_error)\n",
    "\n",
    "print(\"Sample Proportion:\", sample_proportion)\n",
    "print(\"Confidence Interval:\", confidence_interval)\n"
   ]
  },
  {
   "cell_type": "markdown",
   "id": "cb2729d7-dd1e-4057-928f-0472f82326b1",
   "metadata": {},
   "source": [
    "Q8. A researcher hypothesizes that a coin is biased towards tails. They flip the coin 100 times and observe\n",
    "45 tails. Conduct a chi-square goodness of fit test to determine if the observed frequencies match the\n",
    "expected frequencies of a fair coin. Use a significance level of 0.05."
   ]
  },
  {
   "cell_type": "code",
   "execution_count": 9,
   "id": "7b060c27-5ffa-4197-8816-49488b3eb84c",
   "metadata": {},
   "outputs": [
    {
     "name": "stdout",
     "output_type": "stream",
     "text": [
      "Fail to reject the null hypothesis. There is no significant evidence of bias towards tails.\n"
     ]
    }
   ],
   "source": [
    "import numpy as np\n",
    "from scipy.stats import chisquare\n",
    "\n",
    "# Given values\n",
    "observed_frequencies = np.array([45, 55])  # Observed tails, observed heads\n",
    "\n",
    "# Expected frequencies for a fair coin (50-50)\n",
    "expected_frequencies = np.array([50, 50])  # Expected tails, expected heads\n",
    "\n",
    "# Perform the chi-square goodness of fit test\n",
    "chi2_statistic, p_value = chisquare(observed_frequencies, f_exp=expected_frequencies)\n",
    "\n",
    "# Set significance level (alpha)\n",
    "alpha = 0.05\n",
    "\n",
    "# Check if p-value is less than alpha to reject the null hypothesis\n",
    "if p_value < alpha:\n",
    "    print(\"Reject the null hypothesis. The coin is biased towards tails.\")\n",
    "else:\n",
    "    print(\"Fail to reject the null hypothesis. There is no significant evidence of bias towards tails.\")\n"
   ]
  },
  {
   "cell_type": "markdown",
   "id": "efa831f6-0c96-4165-b847-432fcb84fd37",
   "metadata": {},
   "source": [
    "Q9. A study was conducted to determine if there is an association between smoking status (smoker or\n",
    "non-smoker) and lung cancer diagnosis (yes or no). The results are shown in the contingency table below.\n",
    "Conduct a chi-square test for independence to determine if there is a significant association between\n",
    "smoking status and lung cancer diagnosis."
   ]
  },
  {
   "cell_type": "code",
   "execution_count": 10,
   "id": "0a5876e4-1a17-4a5e-af7a-a80f8a957f47",
   "metadata": {},
   "outputs": [
    {
     "name": "stdout",
     "output_type": "stream",
     "text": [
      "Fail to reject the null hypothesis. There is no significant association between smoking status and lung cancer diagnosis.\n"
     ]
    }
   ],
   "source": [
    "import numpy as np\n",
    "from scipy.stats import chi2_contingency\n",
    "\n",
    "# Given contingency table\n",
    "contingency_table = np.array([[20, 15],\n",
    "                              [10, 25],\n",
    "                              [15, 20]])\n",
    "\n",
    "# Perform the chi-square test for independence\n",
    "chi2_statistic, p_value, dof, expected = chi2_contingency(contingency_table)\n",
    "\n",
    "# Set significance level (alpha)\n",
    "alpha = 0.05\n",
    "\n",
    "# Check if p-value is less than alpha to reject the null hypothesis\n",
    "if p_value < alpha:\n",
    "    print(\"Reject the null hypothesis. There is a significant association between smoking status and lung cancer diagnosis.\")\n",
    "else:\n",
    "    print(\"Fail to reject the null hypothesis. There is no significant association between smoking status and lung cancer diagnosis.\")\n"
   ]
  },
  {
   "cell_type": "markdown",
   "id": "22827e66-e9e7-4e23-b976-39d65c2814a5",
   "metadata": {},
   "source": [
    "Q10. A study was conducted to determine if the proportion of people who prefer milk chocolate, dark\n",
    "chocolate, or white chocolate is different in the U.S. versus the U.K. A random sample of 500 people from\n",
    "the U.S. and a random sample of 500 people from the U.K. were surveyed. The results are shown in the\n",
    "contingency table below. Conduct a chi-square test for independence to determine if there is a significant\n",
    "association between chocolate preference and country of origin.\n",
    "\n",
    "               Milk  Dark Chocolate   white Chocolate\n",
    "\n",
    "U.S. (n=500)   200        150            150\n",
    "\n",
    "U.K. (n=500)   225        175            100\n",
    "\n",
    "\n",
    "Use a significance level of 0.01."
   ]
  },
  {
   "cell_type": "code",
   "execution_count": 11,
   "id": "1f9502e5-3dcc-41bc-af4f-369a1d758a0a",
   "metadata": {},
   "outputs": [
    {
     "name": "stdout",
     "output_type": "stream",
     "text": [
      "Reject the null hypothesis. There is a significant association between chocolate preference and country of origin.\n"
     ]
    }
   ],
   "source": [
    "import numpy as np\n",
    "from scipy.stats import chi2_contingency\n",
    "\n",
    "# Given contingency table\n",
    "contingency_table = np.array([[200, 150, 150],  # Milk Chocolate, Dark Chocolate, White Chocolate (U.S.)\n",
    "                              [225, 175, 100]]) # Milk Chocolate, Dark Chocolate, White Chocolate (U.K.)\n",
    "\n",
    "# Perform the chi-square test for independence\n",
    "chi2_statistic, p_value, dof, expected = chi2_contingency(contingency_table)\n",
    "\n",
    "# Set significance level (alpha)\n",
    "alpha = 0.01\n",
    "\n",
    "# Check if p-value is less than alpha to reject the null hypothesis\n",
    "if p_value < alpha:\n",
    "    print(\"Reject the null hypothesis. There is a significant association between chocolate preference and country of origin.\")\n",
    "else:\n",
    "    print(\"Fail to reject the null hypothesis. There is no significant association between chocolate preference and country of origin.\")\n"
   ]
  },
  {
   "cell_type": "markdown",
   "id": "6248865a-8db0-4bc6-b82e-49e959317122",
   "metadata": {},
   "source": [
    "Q11. A random sample of 30 people was selected from a population with an unknown mean and standard\n",
    "deviation. The sample mean was found to be 72 and the sample standard deviation was found to be 10.\n",
    "Conduct a hypothesis test to determine if the population mean is significantly different from 70. Use a\n",
    "significance level of 0.05."
   ]
  },
  {
   "cell_type": "code",
   "execution_count": 12,
   "id": "876c09d9-fab7-42bf-9e6f-cf6e04945b2f",
   "metadata": {},
   "outputs": [
    {
     "name": "stdout",
     "output_type": "stream",
     "text": [
      "Fail to reject the null hypothesis. There is no significant evidence that the population mean is different from 70.\n"
     ]
    }
   ],
   "source": [
    "import numpy as np\n",
    "from scipy import stats\n",
    "\n",
    "# Given sample data\n",
    "sample_mean = 72  # Sample mean\n",
    "sample_std = 10   # Sample standard deviation\n",
    "sample_size = 30  # Sample size\n",
    "\n",
    "# Population parameter under the null hypothesis\n",
    "population_mean_null = 70  # Hypothesized population mean\n",
    "\n",
    "# Set significance level (alpha)\n",
    "alpha = 0.05\n",
    "\n",
    "# Calculate t-statistic\n",
    "t_statistic = (sample_mean - population_mean_null) / (sample_std / np.sqrt(sample_size))\n",
    "\n",
    "# Calculate degrees of freedom\n",
    "degrees_of_freedom = sample_size - 1\n",
    "\n",
    "# Calculate p-value for a two-tailed t-test\n",
    "p_value = 2 * (1 - stats.t.cdf(np.abs(t_statistic), df=degrees_of_freedom))\n",
    "\n",
    "# Check if p-value is less than alpha to reject the null hypothesis\n",
    "if p_value < alpha:\n",
    "    print(\"Reject the null hypothesis. The population mean is significantly different from 70.\")\n",
    "else:\n",
    "    print(\"Fail to reject the null hypothesis. There is no significant evidence that the population mean is different from 70.\")\n"
   ]
  },
  {
   "cell_type": "code",
   "execution_count": null,
   "id": "e5b0cfa8-5523-476a-a5d6-4807d0ac535b",
   "metadata": {},
   "outputs": [],
   "source": []
  }
 ],
 "metadata": {
  "kernelspec": {
   "display_name": "Python 3 (ipykernel)",
   "language": "python",
   "name": "python3"
  },
  "language_info": {
   "codemirror_mode": {
    "name": "ipython",
    "version": 3
   },
   "file_extension": ".py",
   "mimetype": "text/x-python",
   "name": "python",
   "nbconvert_exporter": "python",
   "pygments_lexer": "ipython3",
   "version": "3.10.8"
  }
 },
 "nbformat": 4,
 "nbformat_minor": 5
}
