{
 "cells": [
  {
   "cell_type": "markdown",
   "id": "19506ec3-f357-4c3b-919a-5032cae2fdb3",
   "metadata": {},
   "source": [
    "Q1. What are the three measures of central tendency?"
   ]
  },
  {
   "cell_type": "markdown",
   "id": "590a5909-8b7a-4b44-98ec-6d8cfdcd8037",
   "metadata": {},
   "source": [
    "The three measures of central tendency are statistical measures used to represent the center or typical value of a dataset. They help provide a single value that summarizes the entire dataset and helps understand its central or average position.\n",
    "\n",
    "1. Mean: The mean, also known as the average, is the most common measure of central tendency. It is calculated by summing up all the values in the dataset and dividing by the total number of data points. The formula for the mean is:\n",
    "\n",
    "Mean = (Σ xᵢ) / n\n",
    "\n",
    "where:\n",
    "\n",
    "    xᵢ represents each individual data point in the dataset.\n",
    "    Σ is the summation symbol, indicating to add up all the data points.\n",
    "    n is the total number of data points in the dataset.\n",
    "\n",
    "2. Median: The median is the middle value of a dataset when the data is arranged in ascending or descending order. If the dataset has an odd number of data points, the median is the value exactly at the middle. If the dataset has an even number of data points, the median is the average of the two middle values. The median is less sensitive to extreme values (outliers) in the dataset compared to the mean.\n",
    "\n",
    "3. Mode: The mode is the value that occurs most frequently in the dataset. In some datasets, there may be more than one mode (bimodal or multimodal), or there may be no mode if all the values occur with the same frequency. The mode is particularly useful for categorical data, but it can also be applied to numerical data."
   ]
  },
  {
   "cell_type": "markdown",
   "id": "9613d836-f235-406b-bde7-8c8a6ea6dfb8",
   "metadata": {},
   "source": [
    "Q2. What is the difference between the mean, median, and mode? How are they used to measure the\n",
    "central tendency of a dataset?"
   ]
  },
  {
   "cell_type": "markdown",
   "id": "8a3867a7-8af1-4cbe-8aa7-8e0a0a4b3357",
   "metadata": {},
   "source": [
    "The mean, median, and mode are three different measures of central tendency used to summarize and represent the center or typical value of a dataset. \n",
    "\n",
    "1. Mean:\n",
    "Definition: The mean, also known as the average, is calculated by adding up all the values in the dataset and dividing the sum by the total number of data points.\n",
    "Formula: Mean = (Σ xᵢ) / n, where xᵢ represents each individual data point and n is the total number of data points.\n",
    "Use: The mean is commonly used for datasets with a symmetric distribution, where data points are evenly distributed around a central value. It provides a good representation of the \"center of mass\" of the data. However, the mean is highly influenced by extreme values (outliers) and may not be the best measure of central tendency for skewed or heavily-tailed distributions.\n",
    "2. Median:\n",
    "Definition: The median is the middle value of a dataset when the data is arranged in ascending or descending order. If the dataset has an odd number of data points, the median is the value exactly at the middle. If the dataset has an even number of data points, the median is the average of the two middle values.\n",
    "Use: The median is particularly useful when dealing with skewed datasets or datasets with outliers. It is not affected by extreme values and provides a better representation of the \"typical\" value when the data is not symmetrically distributed. The median is commonly used in income data, where a few very high or very low incomes can heavily influence the mean but have less impact on the median.\n",
    "3. Mode:\n",
    "Definition: The mode is the value that occurs most frequently in the dataset.\n",
    "Use: The mode is commonly used for categorical data or data with discrete values. It helps identify the most frequent category or value, making it suitable for describing the most common outcome or category in the dataset. In some cases, datasets may have multiple modes (bimodal or multimodal) or no mode (when all values occur with the same frequency).\n",
    "In summary, the mean, median, and mode are different ways to measure the central tendency of a dataset:\n",
    "\n",
    "1. The mean represents the arithmetic average of all data points and is suitable for symmetrically distributed data without significant outliers.\n",
    "2. The median is the middle value when data is ordered and is preferred when dealing with skewed data or datasets with outliers.\n",
    "3. The mode identifies the most frequent value or category in the dataset and is used primarily for categorical or discrete data."
   ]
  },
  {
   "cell_type": "markdown",
   "id": "ba21aa26-bc6d-4555-9d96-0b92a462a4a2",
   "metadata": {},
   "source": [
    "Q3. Measure the three measures of central tendency for the given height data:\n",
    "\n",
    "[178,177,176,177,178.2,178,175,179,180,175,178.9,176.2,177,172.5,178,176.5]"
   ]
  },
  {
   "cell_type": "code",
   "execution_count": 7,
   "id": "f75ba476-9149-4c37-a919-388e6274ce5f",
   "metadata": {},
   "outputs": [
    {
     "name": "stdout",
     "output_type": "stream",
     "text": [
      "mean :: 177.01875\n",
      "median :: 177.0\n",
      "mode :: ModeResult(mode=array([177.]), count=array([3]))\n"
     ]
    },
    {
     "name": "stderr",
     "output_type": "stream",
     "text": [
      "/tmp/ipykernel_80/525426551.py:6: FutureWarning: Unlike other reduction functions (e.g. `skew`, `kurtosis`), the default behavior of `mode` typically preserves the axis it acts along. In SciPy 1.11.0, this behavior will change: the default value of `keepdims` will become False, the `axis` over which the statistic is taken will be eliminated, and the value None will no longer be accepted. Set `keepdims` to True or False to avoid this warning.\n",
      "  print(f'mode :: {stats.mode(data)}')\n"
     ]
    }
   ],
   "source": [
    "import numpy as np\n",
    "from scipy import stats\n",
    "data = [178,177,176,177,178.2,178,175,179,180,175,178.9,176.2,177,172.5,178,176.5]\n",
    "print(f'mean :: {np.mean(data)}')\n",
    "print(f'median :: {np.median(data)}')\n",
    "print(f'mode :: {stats.mode(data)}')"
   ]
  },
  {
   "cell_type": "markdown",
   "id": "d91adc6d-c9a4-4741-9bdc-c95fec3eda6e",
   "metadata": {},
   "source": [
    "Q4. Find the standard deviation for the given data:\n",
    "\n",
    "[178,177,176,177,178.2,178,175,179,180,175,178.9,176.2,177,172.5,178,176.5]"
   ]
  },
  {
   "cell_type": "code",
   "execution_count": 8,
   "id": "49928e7d-d967-4be3-83a1-ed02e496a8f1",
   "metadata": {},
   "outputs": [
    {
     "name": "stdout",
     "output_type": "stream",
     "text": [
      "standard deviation ::  1.7885814036548633\n"
     ]
    }
   ],
   "source": [
    "import numpy as np\n",
    "data = [178,177,176,177,178.2,178,175,179,180,175,178.9,176.2,177,172.5,178,176.5]\n",
    "print(f'standard deviation ::  {np.std(data)}')"
   ]
  },
  {
   "cell_type": "markdown",
   "id": "cc2aa4e6-4898-419d-970a-d4dbf2c93586",
   "metadata": {},
   "source": [
    "Q5. How are measures of dispersion such as range, variance, and standard deviation used to describe\n",
    "the spread of a dataset? Provide an example."
   ]
  },
  {
   "cell_type": "markdown",
   "id": "7b5be5f3-6660-45f0-bb44-b28b8a3f3714",
   "metadata": {},
   "source": [
    "Measures of dispersion, such as range, variance, and standard deviation, are used to quantify the spread or variability of data points in a dataset. They provide valuable information about how much the individual data points deviate from the central tendency (mean, median, or mode) and how spread out they are from each other.\n",
    "\n",
    "1. Range:\n",
    "- Definition: The range is the simplest measure of dispersion and is calculated as the difference between the maximum and minimum values in the dataset.\n",
    "- Use: The range gives a quick overview of how widely the data is spread. However, it is sensitive to extreme values (outliers) and may not provide a comprehensive understanding of the variability in datasets with many data points.\n",
    "\n",
    "Example:\n",
    "Let's consider a dataset representing the daily temperatures (in degrees Celsius) in a city over ten days: [25, 26, 27, 28, 30, 24, 22, 29, 31, 25].\n",
    "Range = Maximum value - Minimum value\n",
    "Range = 31 - 22 = 9\n",
    "The range is 9, indicating that the temperature fluctuated by 9 degrees Celsius over the ten-day period.\n",
    "\n",
    "2. Variance:\n",
    "- Definition: Variance measures the average squared deviation of individual data points from the mean of the dataset.\n",
    "- Use: Variance provides a more comprehensive measure of the spread compared to the range. It considers the magnitude of deviations from the mean and takes all data points into account.\n",
    "\n",
    "Example:\n",
    "Let's use the same temperature dataset as before: [25, 26, 27, 28, 30, 24, 22, 29, 31, 25].\n",
    "Step 1: Calculate the mean:\n",
    "Mean = (25 + 26 + 27 + 28 + 30 + 24 + 22 + 29 + 31 + 25) / 10 = 27.7\n",
    "Step 2: Calculate the squared differences from the mean:\n",
    "Squared differences: [(25-27.7)², (26-27.7)², ..., (25-27.7)²]\n",
    "Step 3: Calculate the variance as the average of squared differences:\n",
    "Variance = (Σ (xᵢ - μ)²) / n\n",
    "Variance ≈ 7.11\n",
    "The variance is approximately 7.11 square degrees Celsius, indicating the average squared deviation of individual temperatures from the mean.\n",
    "\n",
    "3. Standard Deviation:\n",
    "- Definition: The standard deviation is the square root of the variance. It measures the average amount of deviation of data points from the mean in the original units of the data.\n",
    "- Use: The standard deviation is a widely used measure of dispersion because it provides a more interpretable value in the same units as the original data. It is also useful for comparing the spread between different datasets.\n",
    "\n",
    "Example (continuing from the previous example):\n",
    "Standard Deviation = √Variance ≈ √7.11 ≈ 2.67 degrees Celsius\n",
    "The standard deviation is approximately 2.67 degrees Celsius, showing the average deviation of individual temperatures from the mean temperature of 27.7 degrees Celsius.\n"
   ]
  },
  {
   "cell_type": "markdown",
   "id": "d0a8dc09-661f-4557-8107-1521bb11b582",
   "metadata": {},
   "source": [
    "Q6. What is a Venn diagram?"
   ]
  },
  {
   "cell_type": "markdown",
   "id": "3db39be1-17c5-4697-83f7-e6157bc86dfc",
   "metadata": {},
   "source": [
    "A Venn diagram is a graphical representation used to show the relationship between different sets. It was first introduced by the British logician and philosopher John Venn in the late 19th century. The diagram consists of one or more circles, each representing a set, and the overlapping areas illustrate the relationships between the sets based on their elements.\n",
    "\n",
    "Here are the main features of a Venn diagram:\n",
    "\n",
    "1. Circles (or Ellipses): Each circle or ellipse in the diagram represents a specific set. The elements of that set are enclosed within the circle's boundary. The size of the circle is usually not significant; it is the overlap and positioning that matter.\n",
    "\n",
    "2. Overlapping Areas: When two or more circles intersect, the overlapping regions indicate elements that belong to multiple sets. These regions are used to represent the relationships between the sets based on the common elements they share.\n",
    "\n",
    "3. Non-Overlapping Areas: The non-overlapping regions of the circles represent elements unique to each set, which do not belong to any other set in the diagram.\n",
    "\n",
    "Venn diagrams are widely used in various fields, including mathematics, statistics, logic, and data analysis. They offer a clear and intuitive way to visualize relationships between sets, understand their intersections, and identify unique elements within each set. Venn diagrams are helpful in solving problems involving set operations such as union, intersection, complement, and set differences. Additionally, they are often used for visualizing survey data, comparing groups, and illustrating logical relationships in a visually appealing manner."
   ]
  },
  {
   "cell_type": "markdown",
   "id": "5052d809-ca8f-4004-9522-3b39a4a7bc81",
   "metadata": {},
   "source": [
    "Q7. For the two given sets A = (2,3,4,5,6,7) & B = (0,2,6,8,10). Find:\n",
    "\n",
    "(i) A B\n",
    "\n",
    "(ii) A ⋃ B"
   ]
  },
  {
   "cell_type": "markdown",
   "id": "a6c08491-84b6-4bf9-824f-50626c90fe2d",
   "metadata": {},
   "source": [
    "(i) {2}"
   ]
  },
  {
   "cell_type": "markdown",
   "id": "e11b214b-03fd-47d7-92d8-e587edaabf2e",
   "metadata": {},
   "source": [
    "(ii) {0,2,3,4,5,6,7,8,10}"
   ]
  },
  {
   "cell_type": "markdown",
   "id": "3e0dd071-465e-4c71-967c-9d2bb7010d79",
   "metadata": {},
   "source": [
    "Q8. What do you understand about skewness in data?"
   ]
  },
  {
   "cell_type": "markdown",
   "id": "7d6e25f1-5f3c-4c12-86e7-ed4b116f44e6",
   "metadata": {},
   "source": [
    "Skewness is a statistical term that measures the asymmetry or lack of symmetry in a probability distribution or a dataset. In data analysis, it is used to describe the shape of the distribution of values. When a dataset is symmetric, the left and right sides of the distribution are roughly mirror images of each other. Skewness quantifies how much the distribution deviates from this symmetry.\n",
    "\n",
    "There are three types of skewness:\n",
    "\n",
    "2. Positive Skewness (Right Skewness): A distribution is positively skewed when the tail on the right side of the distribution is longer or more stretched out than the left side. This means that the majority of the data points are concentrated on the left side of the distribution, with a few extreme values on the right.\n",
    "\n",
    "2. Negative Skewness (Left Skewness): A distribution is negatively skewed when the tail on the left side of the distribution is longer or more stretched out than the right side. In this case, most of the data points are concentrated on the right side of the distribution, with a few extreme values on the left.\n",
    "\n",
    "3. Zero Skewness: A distribution is considered symmetric or zero-skewed if the left and right sides are approximately equal in length and shape. This implies that the dataset is evenly balanced around its mean, and there is no significant tail on either side."
   ]
  },
  {
   "cell_type": "markdown",
   "id": "15f47493-a73f-4cac-9d8c-a83c170526ed",
   "metadata": {},
   "source": [
    "Q9. If a data is right skewed then what will be the position of median with respect to mean?"
   ]
  },
  {
   "cell_type": "markdown",
   "id": "3574ec97-5f9d-4684-a301-31698d80cdae",
   "metadata": {},
   "source": [
    "In a right-skewed distribution, the tail on the right side of the data is longer and contains some larger extreme values. These larger values in the right tail \"pull\" the mean towards the right, making it higher than the median.\n",
    "\n",
    "For a right-skewed distribution: Median < Mean"
   ]
  },
  {
   "cell_type": "markdown",
   "id": "19fe0c07-3047-44fa-a88a-b74b53703b82",
   "metadata": {},
   "source": [
    "Q10. Explain the difference between covariance and correlation. How are these measures used in\n",
    "statistical analysis?"
   ]
  },
  {
   "cell_type": "markdown",
   "id": "5cf27c1c-f826-4813-9c5b-ebd1f7c04265",
   "metadata": {},
   "source": [
    "Covariance and correlation are both measures that describe the relationship between two variables in a dataset. While they are related, they have distinct characteristics and purposes:\n",
    "\n",
    "1. Covariance:\n",
    "Covariance measures the degree to which two variables change together. It indicates the direction (positive or negative) and magnitude of the linear relationship between the variables. A positive covariance suggests that as one variable increases, the other tends to increase as well, and vice versa for a negative covariance. A covariance of zero indicates no linear relationship between the variables.\n",
    "\n",
    "However, the main limitation of covariance is that its value depends on the units of the variables. Therefore, it can be challenging to interpret and compare covariances when the variables have different scales. Additionally, covariance does not provide a standardized measure of the strength of the relationship.\n",
    "\n",
    "\n",
    "2. Correlation:\n",
    "Correlation is a standardized version of covariance, which addresses the issue of different scales. It measures the strength and direction of the linear relationship between two variables, ranging from -1 to 1. A correlation of +1 indicates a perfect positive linear relationship, -1 indicates a perfect negative linear relationship, and 0 indicates no linear relationship.\n",
    "\n",
    "The advantage of correlation over covariance is that it provides a standardized measure that is not influenced by the units of measurement. This makes it easier to interpret and compare relationships between variables, regardless of their scales.\n"
   ]
  },
  {
   "cell_type": "markdown",
   "id": "29420343-f01a-412e-97fa-8c3031672de9",
   "metadata": {},
   "source": [
    "Covariance and correlation are essential measures in statistical analysis, particularly in understanding the relationships between variables and making informed decisions based on data. Here's how they are used:\n",
    "\n",
    "1. **Relationship Assessment:**\n",
    "   - Covariance and correlation are used to assess the relationship between two variables. A positive covariance or correlation suggests that the variables tend to increase or decrease together, while a negative covariance or correlation indicates an inverse relationship.\n",
    "   - For example, in finance, covariance and correlation help investors understand how different assets (e.g., stocks) move concerning each other, which is crucial for portfolio diversification and risk management.\n",
    "\n",
    "2. **Strength of Relationship:**\n",
    "   - Correlation provides a standardized measure of the strength of the linear relationship between two variables. A correlation coefficient close to +1 or -1 indicates a strong linear relationship, while a coefficient close to 0 indicates a weak or no linear relationship.\n",
    "   - Statistical analyses often use correlation to identify strong predictors or independent variables in regression models. High correlations suggest strong predictive power between variables.\n",
    "\n",
    "3. **Data Preprocessing:**\n",
    "   - In some statistical analyses, it is essential to preprocess the data by identifying highly correlated variables to avoid multicollinearity in regression models. Multicollinearity occurs when two or more independent variables are highly correlated, leading to unstable coefficient estimates in the regression model.\n",
    "   - In these cases, one might choose to remove or combine variables to ensure the model's stability and interpretability.\n",
    "\n",
    "4. **Data Validation:**\n",
    "   - Covariance and correlation can help identify errors in datasets. Unusual values in covariance or correlation might indicate data entry errors, outliers, or problems with data collection.\n",
    "   - Visual representations of covariance or correlation matrices can highlight relationships between multiple variables, making it easier to spot patterns and anomalies.\n",
    "\n",
    "5. **Dimensionality Reduction:**\n",
    "   - In certain cases, where there are many variables, principal component analysis (PCA) is a technique that uses covariance (or correlation) to reduce the dimensionality of the data while retaining most of the variability in the dataset.\n",
    "   - PCA is commonly used in fields like image processing, genetics, and data compression.\n",
    "\n",
    "6. **Model Evaluation:**\n",
    "   - In predictive modeling, correlation between predicted and actual values can be used as a measure of model accuracy. It helps evaluate how well a model performs in capturing the relationships present in the data.\n"
   ]
  },
  {
   "cell_type": "markdown",
   "id": "d7b6761c-541f-4d71-b011-1d0cfe5164b5",
   "metadata": {},
   "source": [
    "Q11. What is the formula for calculating the sample mean? Provide an example calculation for a\n",
    "dataset."
   ]
  },
  {
   "cell_type": "markdown",
   "id": "6714c36b-1dcd-43c8-9efd-c1eb93c38582",
   "metadata": {},
   "source": [
    "samplemean = (sum of all the data points)/ Total number"
   ]
  },
  {
   "cell_type": "code",
   "execution_count": 4,
   "id": "2d1a6be2-7bee-45c4-aa1c-4e1a52cd628b",
   "metadata": {},
   "outputs": [
    {
     "name": "stdout",
     "output_type": "stream",
     "text": [
      "mean   :: 46.2\n",
      "mean by numpy  :: 46.2\n"
     ]
    }
   ],
   "source": [
    "import numpy as np\n",
    "data = [25,62,67,68,62,75,12,54,34,3]\n",
    "mean = sum(data)/len(data)\n",
    "print(f'mean   :: {mean}')\n",
    "print(f'mean by numpy  :: {np.mean(data)}')"
   ]
  },
  {
   "cell_type": "markdown",
   "id": "0880a3d7-60da-470b-a7e4-35f52238570e",
   "metadata": {},
   "source": [
    "Q12. For a normal distribution data what is the relationship between its measure of central tendency?"
   ]
  },
  {
   "cell_type": "markdown",
   "id": "6feeb53e-b51f-46ed-a10e-e054729e529e",
   "metadata": {},
   "source": [
    "For a normal distribution, the three main measures of central tendency are the mean, median, and mode. In a perfectly symmetrical normal distribution, these three measures will coincide and be exactly the same value.\n",
    "\n",
    "1. Mean: The mean is the arithmetic average of all the data points in the distribution. In a normal distribution, the mean is located at the center of the curve, and it is a balance point where the curve is symmetrically distributed around it.\n",
    "\n",
    "2. Median: The median is the middle value of a dataset when it is ordered from smallest to largest. In a normal distribution, the median is also at the center of the curve. Since the normal distribution is symmetric, the median will be equal to the mean.\n",
    "\n",
    "3. Mode: The mode is the value that appears most frequently in the dataset. In a normal distribution, there is only one mode, and it is also located at the center of the curve, coinciding with the mean and median."
   ]
  },
  {
   "cell_type": "markdown",
   "id": "33902d16-27df-4849-b5f7-0c1c52c105e4",
   "metadata": {},
   "source": [
    "Q13. How is covariance different from correlation?"
   ]
  },
  {
   "cell_type": "markdown",
   "id": "fc581fcc-1000-4631-babe-8b79122317c8",
   "metadata": {},
   "source": [
    "Covariance and correlation are both measures that describe the relationship between two variables, but they have some key differences:\n",
    "\n",
    "1. Definition:\n",
    "   - Covariance: Covariance measures how two variables change together. It indicates the degree to which the values of one variable change when the values of the other variable change. A positive covariance suggests that when one variable increases, the other tends to increase as well, and vice versa for a negative covariance.\n",
    "   - Correlation: Correlation, specifically Pearson correlation, is a standardized version of covariance. It measures the linear relationship between two variables but normalizes the values to a scale between -1 and 1. A correlation of +1 indicates a perfect positive linear relationship, -1 indicates a perfect negative linear relationship, and 0 indicates no linear relationship.\n",
    "\n",
    "2. Scale:\n",
    "   - Covariance: Covariance values have no specific bounds, and their magnitude depends on the scale of the variables being measured. As a result, it may be challenging to interpret the covariance value without considering the units of the variables.\n",
    "   - Correlation: Correlation values are standardized and range from -1 to 1. This standardization makes it easier to compare and interpret the strength and direction of the relationship between variables, regardless of the units in which the variables are measured.\n",
    "\n",
    "3. Interpretation:\n",
    "   - Covariance: Since covariance is not standardized, its value alone doesn't provide a clear indication of the strength or direction of the relationship between variables. Positive covariance indicates that both variables tend to increase together, negative covariance indicates that one variable increases as the other decreases, and a covariance close to zero suggests a weak or no relationship.\n",
    "   - Correlation: Correlation, being standardized, provides a clear indication of the strength and direction of the linear relationship between variables. A correlation close to +1 or -1 indicates a strong linear relationship, while a correlation close to 0 indicates a weak or no linear relationship.\n",
    "\n",
    "4. Sensitivity to Scale:\n",
    "   - Covariance: Covariance is sensitive to changes in the scale of the variables. If the scale of one or both variables changes, the covariance will also change, even if the underlying relationship remains the same.\n",
    "   - Correlation: Correlation is not sensitive to changes in scale. It only measures the strength and direction of the linear relationship between variables, regardless of the scale of the variables.\n",
    "\n"
   ]
  },
  {
   "cell_type": "markdown",
   "id": "62ccab6b-058f-459c-abc0-44970d589154",
   "metadata": {},
   "source": [
    "Q14. How do outliers affect measures of central tendency and dispersion? Provide an example"
   ]
  },
  {
   "cell_type": "markdown",
   "id": "0e9b2fbe-7f64-414e-9614-d1c6e247b353",
   "metadata": {},
   "source": [
    "Outliers can significantly impact measures of central tendency and dispersion in a dataset. An outlier is an observation that lies far away from the other data points in the dataset and can distort the overall picture of the data. \n",
    "\n",
    "Example:\n",
    "Consider the following dataset representing the ages of ten individuals in a group:\n",
    "\n",
    "[22, 24, 25, 26, 28, 30, 31, 32, 34, 65]\n",
    "\n",
    "In this dataset, all ages are in years, except for the outlier value \"65,\" which seems to be a data entry error or an extreme case.\n",
    "\n",
    "Measures of Central Tendency:\n",
    "1. Mean: The mean is calculated by summing all the values and dividing by the number of data points. In this case, the mean age would be:\n",
    "\n",
    "Mean = (22 + 24 + 25 + 26 + 28 + 30 + 31 + 32 + 34 + 65) / 10 = 302 / 10 = 30.2\n",
    "\n",
    "The outlier \"65\" significantly inflates the mean age, making it higher than most of the individual ages in the dataset.\n",
    "\n",
    "2. Median: The median is the middle value when the data is ordered. In this case, the median would be:\n",
    "\n",
    "Median = 28\n",
    "\n",
    "Since the median is not affected by extreme values, it remains closer to the central tendency of the majority of the data points.\n",
    "\n",
    "3. Mode: The mode is the value that appears most frequently. In this dataset, there is no repeated value, so there is no mode.\n",
    "\n",
    "Measures of Dispersion:\n",
    "1. Range: The range is the difference between the maximum and minimum values in the dataset. In this case, the range would be:\n",
    "\n",
    "Range = Maximum Value - Minimum Value = 65 - 22 = 43\n",
    "\n",
    "The outlier \"65\" contributes significantly to the range, making it much larger than it would be without the outlier.\n",
    "\n",
    "2. Interquartile Range (IQR): The IQR is the range of the middle 50% of the data and is calculated as the difference between the third quartile (Q3) and the first quartile (Q1). In this case, the IQR would be:\n",
    "\n",
    "Q1 = 25 (median of the lower half)\n",
    "Q3 = 32 (median of the upper half)\n",
    "\n",
    "IQR = Q3 - Q1 = 32 - 25 = 7\n",
    "\n",
    "The outlier does not have a substantial effect on the IQR since it is based on quartiles rather than extreme values.\n",
    "\n"
   ]
  },
  {
   "cell_type": "code",
   "execution_count": null,
   "id": "7da20dcf-5708-4287-9e60-4f8396d1d1f9",
   "metadata": {},
   "outputs": [],
   "source": []
  }
 ],
 "metadata": {
  "kernelspec": {
   "display_name": "Python 3 (ipykernel)",
   "language": "python",
   "name": "python3"
  },
  "language_info": {
   "codemirror_mode": {
    "name": "ipython",
    "version": 3
   },
   "file_extension": ".py",
   "mimetype": "text/x-python",
   "name": "python",
   "nbconvert_exporter": "python",
   "pygments_lexer": "ipython3",
   "version": "3.10.8"
  }
 },
 "nbformat": 4,
 "nbformat_minor": 5
}
