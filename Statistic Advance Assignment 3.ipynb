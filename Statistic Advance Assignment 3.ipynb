{
 "cells": [
  {
   "cell_type": "markdown",
   "id": "4afa8b6d-82ba-4055-ad3c-638f9435036b",
   "metadata": {},
   "source": [
    "Q1: What is Estimation Statistics? Explain point estimate and interval estimate."
   ]
  },
  {
   "cell_type": "markdown",
   "id": "31e14cd6-5467-4c4f-80b4-6ad570a9c08a",
   "metadata": {},
   "source": [
    "Estimation statistics is a branch of statistics that deals with the process of making inferences about population parameters based on sample data. When it is not feasible or practical to collect data from an entire population, we take a random sample from the population and use statistical methods to estimate the unknown population parameters.\n",
    "\n",
    "Point Estimate:\n",
    "A point estimate is a single numerical value that serves as the best guess or approximation of the population parameter. It is calculated from the sample data and is used to estimate the true value of the parameter. For example, if we want to estimate the average height of students in a school, we can take a sample of students and calculate their average height. This average height in the sample would be the point estimate for the average height of the entire student population.\n",
    "\n",
    "Interval Estimate:\n",
    "An interval estimate, also known as a confidence interval, is a range of values within which the population parameter is expected to lie with a certain level of confidence. Instead of providing a single point estimate, interval estimates provide a range of values that likely contains the true parameter value. The interval is calculated from the sample data and is associated with a confidence level, typically expressed as a percentage.\n",
    "\n",
    "For instance, if we calculate a 95% confidence interval for the average height of students in the school, it would look like: \"The average height of students in the school is estimated to be between 160 cm and 170 cm, with 95% confidence.\" This means that we are 95% confident that the true average height of all students in the school falls within this interval.\n",
    "\n",
    "The interval estimate is more informative than a point estimate because it provides a measure of uncertainty around the estimate. The wider the interval, the less precise the estimate, but it also indicates higher confidence in capturing the true parameter value. Conversely, a narrower interval provides a more precise estimate, but it comes with less certainty about capturing the true value.\n"
   ]
  },
  {
   "cell_type": "markdown",
   "id": "ad9ca83e-ac75-46fa-b5be-0bf5e3d569ca",
   "metadata": {},
   "source": [
    "Q2. Write a Python function to estimate the population mean using a sample mean and standard\n",
    "deviation."
   ]
  },
  {
   "cell_type": "code",
   "execution_count": 2,
   "id": "11768f0f-977c-427a-93aa-ea9ffde879da",
   "metadata": {},
   "outputs": [
    {
     "name": "stdout",
     "output_type": "stream",
     "text": [
      "Population mean is estimated to be between 147.16 and 152.84 with 95% confidence.\n"
     ]
    }
   ],
   "source": [
    "import scipy.stats as stats\n",
    "\n",
    "def estimate_population_mean(sample_mean, sample_std_dev, sample_size):\n",
    "    # Define the confidence level (e.g., 95%)\n",
    "    confidence_level = 0.95\n",
    "    \n",
    "    # Calculate the critical value based on the confidence level\n",
    "    critical_value = stats.t.ppf((1 + confidence_level) / 2, df=sample_size - 1)\n",
    "    \n",
    "    # Calculate the margin of error\n",
    "    margin_of_error = critical_value * (sample_std_dev / (sample_size ** 0.5))\n",
    "    \n",
    "    # Calculate the lower and upper bounds of the confidence interval\n",
    "    lower_bound = sample_mean - margin_of_error\n",
    "    upper_bound = sample_mean + margin_of_error\n",
    "    \n",
    "    return lower_bound, upper_bound\n",
    "\n",
    "# Example usage:\n",
    "sample_mean = 150\n",
    "sample_std_dev = 10\n",
    "sample_size = 50\n",
    "\n",
    "lower_bound, upper_bound = estimate_population_mean(sample_mean, sample_std_dev, sample_size)\n",
    "print(f\"Population mean is estimated to be between {lower_bound:.2f} and {upper_bound:.2f} with 95% confidence.\")\n"
   ]
  },
  {
   "cell_type": "markdown",
   "id": "44a7bf20-79e7-4b7a-9755-0037a5f799c3",
   "metadata": {},
   "source": [
    "Q3: What is Hypothesis testing? Why is it used? State the importance of Hypothesis testing."
   ]
  },
  {
   "cell_type": "markdown",
   "id": "a44bf0f5-b487-46fb-b40b-b95b92bf29cf",
   "metadata": {},
   "source": [
    "Hypothesis testing is a fundamental concept in statistics used to make decisions and draw inferences about population parameters based on sample data. It involves formulating two competing hypotheses, the null hypothesis (H0) and the alternative hypothesis (H1), and then using sample data to determine which hypothesis is more likely to be true.\n",
    "\n",
    "The main steps involved in hypothesis testing are as follows:\n",
    "\n",
    "1. Formulate the hypotheses:\n",
    "   - Null Hypothesis (H0): It represents the default assumption or the status quo. It often states that there is no significant difference or no effect in the population.\n",
    "   - Alternative Hypothesis (H1): It contradicts the null hypothesis and suggests that there is a significant difference or an effect in the population.\n",
    "\n",
    "2. Select a significance level (alpha, denoted as α):\n",
    "   - The significance level is the threshold for determining statistical significance. It represents the probability of rejecting the null hypothesis when it is true. Commonly used values for α are 0.05 (5%) or 0.01 (1%).\n",
    "\n",
    "3. Collect and analyze sample data:\n",
    "   - A sample is taken from the population of interest, and relevant statistical tests are performed on the data to obtain test statistics.\n",
    "\n",
    "4. Calculate the test statistic:\n",
    "   - The test statistic is a numerical value that summarizes the information from the sample data relevant to the hypothesis being tested.\n",
    "\n",
    "5. Make a decision:\n",
    "   - Compare the test statistic to critical values or use it to calculate a p-value (probability value). If the p-value is less than the significance level (α), we reject the null hypothesis in favor of the alternative hypothesis. Otherwise, we fail to reject the null hypothesis.\n",
    "\n",
    "The Importance of Hypothesis Testing:\n",
    "\n",
    "1. Objectivity: Hypothesis testing provides a structured and objective approach to draw conclusions from data. It helps avoid biases and personal opinions, as decisions are based on statistical evidence.\n",
    "\n",
    "2. Scientific Research: In scientific research, hypothesis testing allows researchers to validate or refute research hypotheses, contributing to the advancement of knowledge.\n",
    "\n",
    "3. Decision Making: Hypothesis testing is widely used in business, economics, and policy-making to support decisions based on data analysis.\n",
    "\n",
    "4. Quality Control: It is essential in manufacturing and quality control processes to ensure product consistency and quality.\n",
    "\n",
    "5. Identifying Relationships: Hypothesis testing allows us to assess relationships between variables, helping to identify causal links or associations.\n",
    "\n",
    "6. Reducing Errors: By establishing a clear framework for decision-making, hypothesis testing reduces the risk of making incorrect conclusions based on random fluctuations in data.\n"
   ]
  },
  {
   "cell_type": "markdown",
   "id": "c597159a-898a-4bb1-9738-64a42d6bda08",
   "metadata": {},
   "source": [
    "Q4. Create a hypothesis that states whether the average weight of male college students is greater than\n",
    "the average weight of female college students."
   ]
  },
  {
   "cell_type": "markdown",
   "id": "3160d68f-1a40-4fad-a51f-ee50a8ba39cb",
   "metadata": {},
   "source": [
    "Hypothesis: The average weight of male college students is greater than the average weight of female college students.\n",
    "\n",
    "To formalize this hypothesis, we can use statistical notation as follows:\n",
    "\n",
    "Null Hypothesis (H0): μ_male <= μ_female\n",
    "(μ_male represents the population mean weight of male college students, and μ_female represents the population mean weight of female college students.)\n",
    "\n",
    "Alternative Hypothesis (H1): μ_male > μ_female\n",
    "(μ_male represents the population mean weight of male college students, and μ_female represents the population mean weight of female college students.)\n",
    "\n",
    "In words, the null hypothesis states that the population mean weight of male college students is less than or equal to the population mean weight of female college students. On the other hand, the alternative hypothesis suggests that the population mean weight of male college students is greater than the population mean weight of female college students.\n",
    "\n",
    "To test this hypothesis, we would collect weight data from a random sample of male and female college students and use appropriate statistical methods (such as a t-test or z-test) to determine if there is sufficient evidence to reject the null hypothesis in favor of the alternative hypothesis."
   ]
  },
  {
   "cell_type": "markdown",
   "id": "db5104c3-8d91-42ec-8c1f-600016e1c499",
   "metadata": {},
   "source": [
    "Q5. Write a Python script to conduct a hypothesis test on the difference between two population means,\n",
    "given a sample from each population."
   ]
  },
  {
   "cell_type": "code",
   "execution_count": 3,
   "id": "c4c7314d-d7ff-44c5-ad07-da630288617c",
   "metadata": {},
   "outputs": [
    {
     "name": "stdout",
     "output_type": "stream",
     "text": [
      "Null Hypothesis rejected. There is sufficient evidence to support the alternative hypothesis.\n",
      "T-Statistic: 6.648416266218666\n",
      "P-Value: 3.0706777810424066e-06\n"
     ]
    }
   ],
   "source": [
    "import numpy as np\n",
    "from scipy.stats import ttest_ind\n",
    "\n",
    "def hypothesis_test_two_means(sample1, sample2, alpha=0.05):\n",
    "    # Perform the t-test\n",
    "    t_statistic, p_value = ttest_ind(sample1, sample2, alternative='two-sided')\n",
    "\n",
    "    # Compare the p-value with the significance level (alpha) to make a decision\n",
    "    if p_value < alpha:\n",
    "        print(\"Null Hypothesis rejected. There is sufficient evidence to support the alternative hypothesis.\")\n",
    "    else:\n",
    "        print(\"Fail to reject the Null Hypothesis. There is not enough evidence to support the alternative hypothesis.\")\n",
    "\n",
    "    print(\"T-Statistic:\", t_statistic)\n",
    "    print(\"P-Value:\", p_value)\n",
    "\n",
    "# Example usage:\n",
    "sample1 = np.array([68, 71, 72, 65, 67, 69, 70, 68, 73, 66])\n",
    "sample2 = np.array([62, 64, 63, 60, 61, 65, 63, 62, 64, 61])\n",
    "\n",
    "hypothesis_test_two_means(sample1, sample2)\n"
   ]
  },
  {
   "cell_type": "markdown",
   "id": "95c9a336-447d-4163-93e0-4ded895b395d",
   "metadata": {},
   "source": [
    "Q6: What is a null and alternative hypothesis? Give some examples."
   ]
  },
  {
   "cell_type": "markdown",
   "id": "9a05f51f-ac72-4a15-9f06-2b95be9ab57b",
   "metadata": {},
   "source": [
    "In statistics, the null hypothesis (H0) and the alternative hypothesis (H1) are two complementary statements used to conduct hypothesis testing. Hypothesis testing is a way to assess whether there is enough evidence in the sample data to support the alternative hypothesis, or if we should stick with the default assumption stated in the null hypothesis.\n",
    "\n",
    "1. Null Hypothesis (H0):\n",
    "The null hypothesis is the default assumption that there is no significant effect or difference in the population. It represents the status quo or the \"no effect\" scenario. In hypothesis testing, we start by assuming that the null hypothesis is true and then collect sample data to test whether there is enough evidence to reject it in favor of the alternative hypothesis.\n",
    "\n",
    "Examples:\n",
    "- The average height of male students is equal to the average height of female students.\n",
    "- There is no difference in test scores between two different teaching methods.\n",
    "- A new drug has no effect on patients' blood pressure compared to a placebo.\n",
    "\n",
    "2. Alternative Hypothesis (H1):\n",
    "The alternative hypothesis contradicts the null hypothesis and represents the scenario we are trying to find evidence for. It asserts that there is a significant effect, difference, or relationship in the population.\n",
    "\n",
    "Examples:\n",
    "- The average height of male students is greater than the average height of female students.\n",
    "- Teaching method A results in higher test scores compared to teaching method B.\n",
    "- The new drug leads to a significant decrease in patients' blood pressure compared to a placebo.\n",
    "\n",
    "In hypothesis testing, we use sample data and statistical tests to determine whether there is enough evidence to reject the null hypothesis in favor of the alternative hypothesis. The outcome of the hypothesis test provides insights into the relationship or effect in the population based on the observed data in the sample. If the evidence is strong enough (i.e., the p-value is below a pre-defined significance level), we reject the null hypothesis and accept the alternative hypothesis, suggesting that the effect is likely to exist in the population. If the evidence is not strong enough, we fail to reject the null hypothesis, implying that there is no significant evidence to support the alternative hypothesis, and we continue with the default assumption."
   ]
  },
  {
   "cell_type": "markdown",
   "id": "b2eadcc5-6622-4b89-935d-62aaba8ea58f",
   "metadata": {},
   "source": [
    "Q7: Write down the steps involved in hypothesis testing."
   ]
  },
  {
   "cell_type": "markdown",
   "id": "c84e3591-2751-42cb-82e5-55c31f473f83",
   "metadata": {},
   "source": [
    "Hypothesis testing involves a structured process to make statistical inferences about population parameters based on sample data. The general steps in hypothesis testing are as follows:\n",
    "\n",
    "1. State the Hypotheses:\n",
    "   - Formulate the null hypothesis (H0) and the alternative hypothesis (H1).\n",
    "   - The null hypothesis typically represents the default assumption or no effect, while the alternative hypothesis contradicts the null hypothesis and suggests the presence of an effect or difference.\n",
    "\n",
    "2. Set the Significance Level (α):\n",
    "   - Choose a significance level (α), which represents the probability of making a Type I error (rejecting the null hypothesis when it is true).\n",
    "   - Commonly used significance levels are 0.05 (5%) or 0.01 (1%).\n",
    "\n",
    "3. Collect Sample Data:\n",
    "   - Take a random sample from the population of interest.\n",
    "   - The sample should be representative of the population to ensure the validity of the results.\n",
    "\n",
    "4. Select the Appropriate Test:\n",
    "   - Based on the nature of the data and the research question, choose an appropriate statistical test for hypothesis testing.\n",
    "   - Examples of tests include t-tests, z-tests, chi-square tests, ANOVA, etc.\n",
    "\n",
    "5. Calculate the Test Statistic:\n",
    "   - Compute the appropriate test statistic based on the chosen statistical test.\n",
    "   - The test statistic quantifies the difference between the sample data and the values predicted by the null hypothesis.\n",
    "\n",
    "6. Determine the Critical Region (Rejection Region):\n",
    "   - The critical region is the range of values in which the test statistic would lead to the rejection of the null hypothesis in favor of the alternative hypothesis.\n",
    "   - Critical values are obtained from statistical tables or calculated based on the chosen significance level and test distribution.\n",
    "\n",
    "7. Calculate the P-Value:\n",
    "   - The p-value is the probability of obtaining a test statistic as extreme or more extreme than the one observed in the sample, assuming that the null hypothesis is true.\n",
    "   - A small p-value indicates strong evidence against the null hypothesis.\n",
    "\n",
    "8. Make a Decision:\n",
    "   - Compare the calculated p-value with the chosen significance level (α).\n",
    "   - If the p-value is less than α, reject the null hypothesis in favor of the alternative hypothesis.\n",
    "   - If the p-value is greater than or equal to α, fail to reject the null hypothesis.\n",
    "\n",
    "9. Interpret the Results:\n",
    "   - Communicate the decision and its implications in the context of the research question.\n",
    "   - Clearly state the conclusion regarding the null hypothesis and whether there is sufficient evidence to support the alternative hypothesis.\n"
   ]
  },
  {
   "cell_type": "markdown",
   "id": "3ae3f0fc-3659-4759-9ccb-93e5e941c9d4",
   "metadata": {},
   "source": [
    "Q8. Define p-value and explain its significance in hypothesis testing."
   ]
  },
  {
   "cell_type": "markdown",
   "id": "f54394a7-de21-475f-88fc-66c20061e562",
   "metadata": {},
   "source": [
    "In hypothesis testing, the p-value (probability value) is a measure that helps determine the strength of evidence against the null hypothesis (H0). It quantifies the probability of obtaining a test statistic as extreme or more extreme than the one observed in the sample data, assuming that the null hypothesis is true.\n",
    "\n",
    "The significance of the p-value lies in its role in the decision-making process during hypothesis testing:\n",
    "\n",
    "1. Comparing with the Significance Level (α):\n",
    "   - The researcher sets a significance level (α), also known as the level of significance or the critical value, typically at 0.05 (5%) or 0.01 (1%).\n",
    "   - If the p-value is less than or equal to α, it indicates that the observed sample data's extreme nature is highly unlikely under the null hypothesis's assumption.\n",
    "   - If the p-value is less than α, we reject the null hypothesis in favor of the alternative hypothesis, indicating that there is significant evidence to support the alternative hypothesis. The result is considered statistically significant.\n",
    "\n",
    "2. Interpretation:\n",
    "   - A small p-value suggests that the data provides strong evidence against the null hypothesis.\n",
    "   - A large p-value suggests that the data does not provide significant evidence against the null hypothesis, and we fail to reject the null hypothesis.\n",
    "   - Note that a large p-value does not necessarily mean that the null hypothesis is true; it simply means that the data does not provide sufficient evidence to reject it.\n",
    "\n",
    "3. Probability of Type I Error:\n",
    "   - The p-value is also related to the probability of making a Type I error (false positive) in hypothesis testing.\n",
    "   - A Type I error occurs when we mistakenly reject the null hypothesis when it is actually true.\n",
    "   - The significance level (α) chosen by the researcher represents the maximum acceptable probability of Type I error.\n",
    "   - For example, if α is set at 0.05, it means that the researcher is willing to accept a 5% chance of making a Type I error.\n",
    "\n",
    "4. Two-Tailed Tests:\n",
    "   - In some cases, hypothesis tests are two-tailed, where the alternative hypothesis is two-sided (e.g., testing for a difference between means, but without specifying the direction).\n",
    "   - In such cases, the p-value represents the combined probability of observing the extreme test statistic in both tails of the distribution.\n",
    "   - For a two-tailed test, the p-value is calculated as twice the probability of observing the extreme values in one tail.\n",
    "   "
   ]
  },
  {
   "cell_type": "markdown",
   "id": "a3d6ac57-a2aa-4da4-92c6-c987c2715205",
   "metadata": {},
   "source": [
    "Q9. Generate a Student's t-distribution plot using Python's matplotlib library, with the degrees of freedom\n",
    "parameter set to 10."
   ]
  },
  {
   "cell_type": "code",
   "execution_count": 4,
   "id": "66779edb-b212-4f6e-95c7-e2a42c217af8",
   "metadata": {},
   "outputs": [
    {
     "data": {
      "image/png": "[encoded data removed]",
      "text/plain": [
       "<Figure size 640x480 with 1 Axes>"
      ]
     },
     "metadata": {},
     "output_type": "display_data"
    }
   ],
   "source": [
    "import numpy as np\n",
    "import matplotlib.pyplot as plt\n",
    "from scipy.stats import t\n",
    "\n",
    "# Set the degrees of freedom\n",
    "degrees_of_freedom = 10\n",
    "\n",
    "# Generate x-values for the t-distribution plot\n",
    "x = np.linspace(-5, 5, 500)\n",
    "\n",
    "# Calculate the corresponding y-values (PDF) from the t-distribution\n",
    "y = t.pdf(x, df=degrees_of_freedom)\n",
    "\n",
    "# Plot the t-distribution\n",
    "plt.plot(x, y, label=f\"t-distribution (df={degrees_of_freedom})\")\n",
    "\n",
    "# Add labels and a legend\n",
    "plt.xlabel('x')\n",
    "plt.ylabel('Probability Density Function')\n",
    "plt.title(f\"Student's t-distribution (df={degrees_of_freedom})\")\n",
    "plt.legend()\n",
    "\n",
    "# Display the plot\n",
    "plt.show()\n"
   ]
  },
  {
   "cell_type": "markdown",
   "id": "c69ce0b8-6891-45d3-ae64-71eee6d5a78b",
   "metadata": {},
   "source": [
    "Q10. Write a Python program to calculate the two-sample t-test for independent samples, given two\n",
    "random samples of equal size and a null hypothesis that the population means are equal."
   ]
  },
  {
   "cell_type": "code",
   "execution_count": 5,
   "id": "604db1c3-9eca-452e-95f2-1b6b4557374f",
   "metadata": {},
   "outputs": [
    {
     "name": "stdout",
     "output_type": "stream",
     "text": [
      "Null Hypothesis rejected. There is sufficient evidence to support that the population means are not equal.\n",
      "T-Statistic: 6.648416266218666\n",
      "P-Value: 3.0706777810424066e-06\n"
     ]
    }
   ],
   "source": [
    "import numpy as np\n",
    "from scipy.stats import ttest_ind\n",
    "\n",
    "def two_sample_t_test(sample1, sample2):\n",
    "    # Perform the two-sample t-test\n",
    "    t_statistic, p_value = ttest_ind(sample1, sample2)\n",
    "\n",
    "    # Determine the significance level (alpha)\n",
    "    alpha = 0.05\n",
    "\n",
    "    # Compare the p-value with the significance level to make a decision\n",
    "    if p_value < alpha:\n",
    "        print(\"Null Hypothesis rejected. There is sufficient evidence to support that the population means are not equal.\")\n",
    "    else:\n",
    "        print(\"Fail to reject the Null Hypothesis. There is not enough evidence to support that the population means are different.\")\n",
    "\n",
    "    print(\"T-Statistic:\", t_statistic)\n",
    "    print(\"P-Value:\", p_value)\n",
    "\n",
    "# Example usage:\n",
    "sample1 = np.array([68, 71, 72, 65, 67, 69, 70, 68, 73, 66])\n",
    "sample2 = np.array([62, 64, 63, 60, 61, 65, 63, 62, 64, 61])\n",
    "\n",
    "two_sample_t_test(sample1, sample2)\n"
   ]
  },
  {
   "cell_type": "markdown",
   "id": "c93265a2-205f-4b86-91b2-331092e9a028",
   "metadata": {},
   "source": [
    "Q11: What is Student’s t distribution? When to use the t-Distribution"
   ]
  },
  {
   "cell_type": "markdown",
   "id": "317d0398-541d-42ee-856e-e3a4731843c3",
   "metadata": {},
   "source": [
    "Student's t-distribution, often referred to simply as the t-distribution, is a probability distribution used in statistics to model the uncertainty associated with estimating the population mean when the sample size is small and the population standard deviation is unknown.\n",
    "\n",
    "The t-distribution is similar in shape to the standard normal distribution (z-distribution), but it has heavier tails, which means it allows for more extreme values compared to the normal distribution. As the sample size increases, the t-distribution approaches the standard normal distribution.\n",
    "\n",
    "When to use the t-Distribution:\n",
    "\n",
    "1. Small Sample Sizes: The t-distribution is particularly useful when dealing with small sample sizes, typically with sample sizes less than 30. In such cases, the sample standard deviation is often used as an estimate of the population standard deviation, introducing additional uncertainty in the estimation process.\n",
    "\n",
    "2. Unknown Population Standard Deviation: When the population standard deviation is unknown, the t-distribution is employed to calculate confidence intervals and conduct hypothesis tests for the population mean.\n",
    "\n",
    "3. Z-Distribution Assumptions Not Met: If the conditions for using the standard normal distribution (z-distribution) are not met, such as when the sample size is small or the population standard deviation is unknown, the t-distribution provides a suitable alternative.\n",
    "\n",
    "4. Estimating Population Mean: The t-distribution is frequently used in scenarios where the goal is to estimate the population mean based on sample data. Confidence intervals for the population mean can be constructed using the t-distribution.\n",
    "\n",
    "5. Comparison of Means: The t-distribution is used in various tests for comparing means between two or more groups, such as the two-sample t-test for independent samples and the paired t-test for dependent samples.\n",
    "\n",
    "6. Quality Control and Process Control: In manufacturing and quality control processes, the t-distribution is utilized when dealing with small samples to monitor and assess the consistency of the process mean.\n",
    "\n",
    "Overall, the t-distribution is a valuable tool in situations involving small samples or when the population standard deviation is unknown. It accounts for the increased uncertainty associated with estimating population parameters from limited sample data, making it an essential part of statistical analyses in various fields."
   ]
  },
  {
   "cell_type": "markdown",
   "id": "a28c764f-82cb-4cf5-beca-91d28880944f",
   "metadata": {},
   "source": [
    "Q12: What is t-statistic? State the formula for t-statistic."
   ]
  },
  {
   "cell_type": "markdown",
   "id": "ee02838a-1b87-4348-831c-44eea7ecef0c",
   "metadata": {},
   "source": [
    "The t-statistic, also known as the t-value, is a numerical value that is calculated in hypothesis testing to assess the difference between sample data and the population parameter specified in the null hypothesis. It measures how many standard errors the sample mean is away from the hypothesized population mean. The t-statistic is used in the t-test, which is commonly used to compare the means of two groups or to test the significance of a single sample mean.\n",
    "\n",
    "The formula for calculating the t-statistic for a single sample is:\n",
    "\n",
    "t = (sample_mean - hypothesized_population_mean) / (sample_standard_deviation / sqrt(sample_size))\n",
    "\n",
    "where:\n",
    "- `sample_mean` is the mean of the sample data.\n",
    "- `hypothesized_population_mean` is the population mean specified in the null hypothesis.\n",
    "- `sample_standard_deviation` is the standard deviation of the sample data.\n",
    "- `sample_size` is the number of observations in the sample.\n",
    "\n",
    "In a two-sample t-test for independent samples, the formula for the t-statistic is slightly different:\n",
    "\n",
    "t = (sample_mean1 - sample_mean2) / sqrt((sample_var1 / sample_size1) + (sample_var2 / sample_size2))\n",
    "\n",
    "where:\n",
    "- `sample_mean1` and `sample_mean2` are the means of the two samples being compared.\n",
    "- `sample_var1` and `sample_var2` are the variances of the two samples.\n",
    "- `sample_size1` and `sample_size2` are the sizes of the two samples.\n",
    "\n",
    "The t-statistic measures the difference between the sample means (in the two-sample case) relative to the variability within the samples. A larger absolute t-value indicates a larger difference between the sample means or between the sample mean and the hypothesized population mean. The t-statistic is then used to calculate the p-value, which provides the probability of observing such a difference under the assumption that the null hypothesis is true. A smaller p-value suggests stronger evidence against the null hypothesis and in favor of the alternative hypothesis."
   ]
  },
  {
   "cell_type": "markdown",
   "id": "80c11d31-5397-4064-8058-25ad73b789b4",
   "metadata": {},
   "source": [
    "Q13. A coffee shop owner wants to estimate the average daily revenue for their shop. They take a random\n",
    "sample of 50 days and find the sample mean revenue to be $500 with a standard deviation of $50.\n",
    "Estimate the population mean revenue with a 95% confidence interval."
   ]
  },
  {
   "cell_type": "code",
   "execution_count": 6,
   "id": "e74f34bd-d568-4ef6-a5db-5e6a9e6d9c52",
   "metadata": {},
   "outputs": [
    {
     "name": "stdout",
     "output_type": "stream",
     "text": [
      "Population mean revenue is estimated to be between $486.14 and $513.86 with 95% confidence.\n"
     ]
    }
   ],
   "source": [
    "import math\n",
    "\n",
    "# Given data\n",
    "sample_mean = 500  # Sample mean revenue ($500)\n",
    "sample_std_dev = 50  # Sample standard deviation ($50)\n",
    "sample_size = 50  # Sample size (number of days)\n",
    "\n",
    "# Calculate the z-score for 95% confidence level (standard normal distribution)\n",
    "z_score = 1.96\n",
    "\n",
    "# Calculate the margin of error (MOE)\n",
    "margin_of_error = z_score * (sample_std_dev / math.sqrt(sample_size))\n",
    "\n",
    "# Calculate the lower and upper bounds of the confidence interval\n",
    "lower_bound = sample_mean - margin_of_error\n",
    "upper_bound = sample_mean + margin_of_error\n",
    "\n",
    "# Print the results\n",
    "print(f\"Population mean revenue is estimated to be between ${lower_bound:.2f} and ${upper_bound:.2f} with 95% confidence.\")\n"
   ]
  },
  {
   "cell_type": "markdown",
   "id": "367dc879-fd1c-460b-9872-1cd91055e84f",
   "metadata": {},
   "source": [
    "Q14. A researcher hypothesizes that a new drug will decrease blood pressure by 10 mmHg. They conduct a\n",
    "clinical trial with 100 patients and find that the sample mean decrease in blood pressure is 8 mmHg with a\n",
    "standard deviation of 3 mmHg. Test the hypothesis with a significance level of 0.05."
   ]
  },
  {
   "cell_type": "code",
   "execution_count": 7,
   "id": "41abc067-64b3-4fe5-a275-686a34340246",
   "metadata": {},
   "outputs": [
    {
     "name": "stdout",
     "output_type": "stream",
     "text": [
      "Null Hypothesis rejected. The new drug has a significant effect in decreasing blood pressure.\n",
      "T-Statistic: -6.666666666666667\n",
      "P-Value: 1.5012289189542116e-09\n"
     ]
    }
   ],
   "source": [
    "import math\n",
    "from scipy.stats import t\n",
    "\n",
    "# Given data\n",
    "sample_mean = 8\n",
    "sample_std_dev = 3\n",
    "sample_size = 100\n",
    "hypothesized_mean = 10\n",
    "significance_level = 0.05\n",
    "\n",
    "# Calculate the t-statistic\n",
    "t_statistic = (sample_mean - hypothesized_mean) / (sample_std_dev / math.sqrt(sample_size))\n",
    "\n",
    "# Calculate the degrees of freedom\n",
    "degrees_of_freedom = sample_size - 1\n",
    "\n",
    "# Calculate the two-tailed p-value\n",
    "p_value = 2 * (1 - t.cdf(abs(t_statistic), df=degrees_of_freedom))\n",
    "\n",
    "# Compare the p-value with the significance level to make a decision\n",
    "if p_value < significance_level:\n",
    "    print(\"Null Hypothesis rejected. The new drug has a significant effect in decreasing blood pressure.\")\n",
    "else:\n",
    "    print(\"Fail to reject the Null Hypothesis. There is not enough evidence to support that the new drug decreases blood pressure by 10 mmHg.\")\n",
    "\n",
    "print(\"T-Statistic:\", t_statistic)\n",
    "print(\"P-Value:\", p_value)\n"
   ]
  },
  {
   "cell_type": "markdown",
   "id": "7fb6210e-12ce-4963-bd10-3a15fea5e0f6",
   "metadata": {},
   "source": [
    "Q15. An electronics company produces a certain type of product with a mean weight of 5 pounds and a\n",
    "standard deviation of 0.5 pounds. A random sample of 25 products is taken, and the sample mean weight\n",
    "is found to be 4.8 pounds. Test the hypothesis that the true mean weight of the products is less than 5\n",
    "pounds with a significance level of 0.01."
   ]
  },
  {
   "cell_type": "code",
   "execution_count": 8,
   "id": "d406c95a-e251-4dfd-9190-0d47542d7bed",
   "metadata": {},
   "outputs": [
    {
     "name": "stdout",
     "output_type": "stream",
     "text": [
      "Fail to reject the Null Hypothesis. There is not enough evidence to support that the true mean weight of the products is less than 5 pounds.\n",
      "T-Statistic: -2.0000000000000018\n",
      "P-Value: 0.02846992496829572\n"
     ]
    }
   ],
   "source": [
    "import math\n",
    "from scipy.stats import t\n",
    "\n",
    "# Given data\n",
    "population_mean = 5\n",
    "population_std_dev = 0.5\n",
    "sample_size = 25\n",
    "sample_mean = 4.8\n",
    "significance_level = 0.01\n",
    "\n",
    "# Calculate the standard error of the mean\n",
    "standard_error = population_std_dev / math.sqrt(sample_size)\n",
    "\n",
    "# Calculate the t-statistic\n",
    "t_statistic = (sample_mean - population_mean) / standard_error\n",
    "\n",
    "# Calculate the degrees of freedom\n",
    "degrees_of_freedom = sample_size - 1\n",
    "\n",
    "# Calculate the one-tailed p-value (left-tailed test)\n",
    "p_value = t.cdf(t_statistic, df=degrees_of_freedom)\n",
    "\n",
    "# Compare the p-value with the significance level to make a decision\n",
    "if p_value < significance_level:\n",
    "    print(\"Null Hypothesis rejected. There is significant evidence to support that the true mean weight of the products is less than 5 pounds.\")\n",
    "else:\n",
    "    print(\"Fail to reject the Null Hypothesis. There is not enough evidence to support that the true mean weight of the products is less than 5 pounds.\")\n",
    "\n",
    "print(\"T-Statistic:\", t_statistic)\n",
    "print(\"P-Value:\", p_value)\n"
   ]
  },
  {
   "cell_type": "markdown",
   "id": "029ad9a3-383d-4ac2-95ea-199e1e72d106",
   "metadata": {},
   "source": [
    "Q16. Two groups of students are given different study materials to prepare for a test. The first group (n1 =\n",
    "30) has a mean score of 80 with a standard deviation of 10, and the second group (n2 = 40) has a mean\n",
    "score of 75 with a standard deviation of 8. Test the hypothesis that the population means for the two\n",
    "groups are equal with a significance level of 0.01."
   ]
  },
  {
   "cell_type": "code",
   "execution_count": 9,
   "id": "d327d376-1840-4211-9f4e-164da8620c95",
   "metadata": {},
   "outputs": [
    {
     "name": "stdout",
     "output_type": "stream",
     "text": [
      "Fail to reject the Null Hypothesis. There is not enough evidence to support that the population means for the two groups are different.\n",
      "T-Statistic: 2.2511258444537408\n",
      "P-Value: 0.027613480367697507\n"
     ]
    }
   ],
   "source": [
    "import math\n",
    "\n",
    "# Given data for group 1\n",
    "sample_mean1 = 80\n",
    "sample_std_dev1 = 10\n",
    "sample_size1 = 30\n",
    "\n",
    "# Given data for group 2\n",
    "sample_mean2 = 75\n",
    "sample_std_dev2 = 8\n",
    "sample_size2 = 40\n",
    "\n",
    "# Significance level (alpha)\n",
    "significance_level = 0.01\n",
    "\n",
    "# Calculate the pooled standard error\n",
    "pooled_std_error = math.sqrt((sample_std_dev1**2/sample_size1) + (sample_std_dev2**2/sample_size2))\n",
    "\n",
    "# Calculate the degrees of freedom\n",
    "degrees_of_freedom = sample_size1 + sample_size2 - 2\n",
    "\n",
    "# Calculate the t-statistic\n",
    "t_statistic = (sample_mean1 - sample_mean2) / pooled_std_error\n",
    "\n",
    "# Calculate the two-tailed p-value\n",
    "from scipy.stats import t\n",
    "\n",
    "p_value = 2 * (1 - t.cdf(abs(t_statistic), df=degrees_of_freedom))\n",
    "\n",
    "# Compare the p-value with the significance level to make a decision\n",
    "if p_value < significance_level:\n",
    "    print(\"Null Hypothesis rejected. There is significant evidence to support that the population means for the two groups are not equal.\")\n",
    "else:\n",
    "    print(\"Fail to reject the Null Hypothesis. There is not enough evidence to support that the population means for the two groups are different.\")\n",
    "\n",
    "print(\"T-Statistic:\", t_statistic)\n",
    "print(\"P-Value:\", p_value)\n"
   ]
  },
  {
   "cell_type": "markdown",
   "id": "733fabfc-5529-4129-83c1-406443fcfe31",
   "metadata": {},
   "source": [
    "Q17. A marketing company wants to estimate the average number of ads watched by viewers during a TV\n",
    "program. They take a random sample of 50 viewers and find that the sample mean is 4 with a standard\n",
    "deviation of 1.5. Estimate the population mean with a 99% confidence interval."
   ]
  },
  {
   "cell_type": "code",
   "execution_count": 10,
   "id": "065ac1a1-3726-4dc2-9d34-cc1db4af344a",
   "metadata": {},
   "outputs": [
    {
     "name": "stdout",
     "output_type": "stream",
     "text": [
      "Population mean number of ads watched is estimated to be between 3.45 and 4.55 with 99% confidence.\n"
     ]
    }
   ],
   "source": [
    "import math\n",
    "\n",
    "# Given data\n",
    "sample_mean = 4  # Sample mean number of ads watched\n",
    "sample_std_dev = 1.5  # Sample standard deviation\n",
    "sample_size = 50  # Sample size (number of viewers)\n",
    "\n",
    "# Calculate the z-score for 99% confidence level (standard normal distribution)\n",
    "z_score = 2.576\n",
    "\n",
    "# Calculate the margin of error (MOE)\n",
    "margin_of_error = z_score * (sample_std_dev / math.sqrt(sample_size))\n",
    "\n",
    "# Calculate the lower and upper bounds of the confidence interval\n",
    "lower_bound = sample_mean - margin_of_error\n",
    "upper_bound = sample_mean + margin_of_error\n",
    "\n",
    "# Print the results\n",
    "print(f\"Population mean number of ads watched is estimated to be between {lower_bound:.2f} and {upper_bound:.2f} with 99% confidence.\")\n"
   ]
  },
  {
   "cell_type": "code",
   "execution_count": null,
   "id": "ad988d0d-a73f-49c8-aa91-8cefa2964b8b",
   "metadata": {},
   "outputs": [],
   "source": []
  }
 ],
 "metadata": {
  "kernelspec": {
   "display_name": "Python 3 (ipykernel)",
   "language": "python",
   "name": "python3"
  },
  "language_info": {
   "codemirror_mode": {
    "name": "ipython",
    "version": 3
   },
   "file_extension": ".py",
   "mimetype": "text/x-python",
   "name": "python",
   "nbconvert_exporter": "python",
   "pygments_lexer": "ipython3",
   "version": "3.10.8"
  }
 },
 "nbformat": 4,
 "nbformat_minor": 5
}
