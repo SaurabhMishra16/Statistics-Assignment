{
 "cells": [
  {
   "cell_type": "markdown",
   "id": "df214127-156b-4de7-9bc5-8b371f251a3d",
   "metadata": {},
   "source": [
    "Q1. What is the Probability density function?"
   ]
  },
  {
   "cell_type": "markdown",
   "id": "5c871eb7-0f57-458d-91be-9b35ee0efcb6",
   "metadata": {},
   "source": [
    "The Probability Density Function (PDF) is a fundamental concept in probability and statistics. It is used to describe the probability distribution of a continuous random variable. The PDF provides the likelihood of the random variable taking on a specific value within a given range.\n",
    "\n",
    "For a continuous random variable X, the probability density function is denoted as f(x) and is defined in such a way that the probability of X lying within a certain interval [a, b] is given by the integral of the PDF over that interval:\n",
    "\n",
    "P(a ≤ X ≤ b) = ∫[a to b] f(x) dx\n",
    "\n",
    "Properties of the Probability Density Function:\n",
    "1. The PDF is always non-negative: f(x) ≥ 0 for all x.\n",
    "2. The area under the curve of the PDF over the entire range of the random variable is equal to 1: ∫[-∞ to ∞] f(x) dx = 1.\n",
    "3. The probability of the random variable taking on any specific value is typically zero since it is represented by a continuous curve. Instead, the probability is calculated for intervals of values.\n"
   ]
  },
  {
   "cell_type": "markdown",
   "id": "e9567c7f-1787-4dbf-958c-bca32291065b",
   "metadata": {},
   "source": [
    "Q2. What are the types of Probability distribution?"
   ]
  },
  {
   "cell_type": "markdown",
   "id": "3aee4150-7262-42ad-9e13-1fa5ea34e609",
   "metadata": {},
   "source": [
    "There are two main types of probability distributions: discrete probability distributions and continuous probability distributions.\n",
    "\n",
    "1. Discrete Probability Distribution:\n",
    "A discrete probability distribution is associated with discrete random variables, which can only take on distinct and separate values. The probability distribution is defined by the probabilities of each possible outcome. The probabilities of all possible values must sum up to 1.\n",
    "\n",
    "Common examples of discrete probability distributions include:\n",
    "\n",
    "- Bernoulli distribution: Models a binary outcome with only two possible values, typically denoted as 0 and 1.\n",
    "- Binomial distribution: Models the number of successes in a fixed number of independent Bernoulli trials.\n",
    "- Poisson distribution: Models the number of occurrences of an event within a fixed interval of time or space when the events occur independently and at a constant rate.\n",
    "\n",
    "2. Continuous Probability Distribution:\n",
    "A continuous probability distribution is associated with continuous random variables, which can take on any value within a continuous range or interval. The probability distribution is defined using a probability density function (PDF), and the probabilities are represented by the areas under the curve of the PDF.\n",
    "\n",
    "Common examples of continuous probability distributions include:\n",
    "\n",
    "- Normal distribution (Gaussian distribution): A bell-shaped distribution that is widely used in statistical analysis due to its mathematical properties and its frequent appearance in natural phenomena.\n",
    "- Uniform distribution: Represents a constant probability density over a specified interval, where all values within that interval have equal probabilities.\n",
    "- Exponential distribution: Models the time between events in a Poisson process, where events occur independently at a constant rate.\n"
   ]
  },
  {
   "cell_type": "markdown",
   "id": "b9e93528-027b-44b2-aa3d-f0cdbfe8d122",
   "metadata": {},
   "source": [
    "Q3. Write a Python function to calculate the probability density function of a normal distribution with\n",
    "given mean and standard deviation at a given point."
   ]
  },
  {
   "cell_type": "code",
   "execution_count": 2,
   "id": "eac27c1d-9a14-4528-a121-81c371a4a630",
   "metadata": {},
   "outputs": [
    {
     "name": "stdout",
     "output_type": "stream",
     "text": [
      "The probability density at 1 is: 0.24197072451914337\n"
     ]
    }
   ],
   "source": [
    "import math\n",
    "\n",
    "def normal_pdf(x, mu, sigma):\n",
    "    \"\"\"\n",
    "    Calculate the probability density function (PDF) of a normal distribution\n",
    "    at a given point (x) with a given mean (mu) and standard deviation (sigma).\n",
    "\n",
    "    Parameters:\n",
    "        x (float): The point at which to calculate the PDF.\n",
    "        mu (float): The mean of the normal distribution.\n",
    "        sigma (float): The standard deviation of the normal distribution.\n",
    "\n",
    "    Returns:\n",
    "        float: The probability density at the given point.\n",
    "    \"\"\"\n",
    "    if sigma <= 0:\n",
    "        raise ValueError(\"Standard deviation (sigma) must be positive.\")\n",
    "    \n",
    "    coeff = 1 / (sigma * math.sqrt(2 * math.pi))\n",
    "    exponent = -0.5 * ((x - mu) / sigma) ** 2\n",
    "    pdf = coeff * math.exp(exponent)\n",
    "    return pdf\n",
    "\n",
    "# Example usage:\n",
    "mean = 0  # Mean of the normal distribution\n",
    "std_dev = 1  # Standard deviation of the normal distribution\n",
    "point = 1  # Point at which to calculate the PDF\n",
    "pdf_value = normal_pdf(point, mean, std_dev)\n",
    "print(f\"The probability density at {point} is: {pdf_value}\")\n"
   ]
  },
  {
   "cell_type": "markdown",
   "id": "35fd520d-3d13-43b9-8932-e91fd3e3f779",
   "metadata": {},
   "source": [
    "Q4. What are the properties of Binomial distribution? Give two examples of events where binomial\n",
    "distribution can be applied."
   ]
  },
  {
   "cell_type": "markdown",
   "id": "dfaf2236-2364-4cbd-82ed-74bfe032e811",
   "metadata": {},
   "source": [
    "The Binomial distribution is a discrete probability distribution that models the number of successes in a fixed number of independent Bernoulli trials. It is characterized by two parameters: \"n\" (the number of trials) and \"p\" (the probability of success in each trial). The distribution is denoted as B(n, p).\n",
    "\n",
    "Properties of the Binomial distribution:\n",
    "\n",
    "1. Independent Trials: The trials must be independent, meaning the outcome of one trial does not affect the outcome of another.\n",
    "\n",
    "2. Two Possible Outcomes: Each trial has only two possible outcomes: success (usually denoted as \"S\") with probability \"p\" and failure (usually denoted as \"F\") with probability \"1 - p.\"\n",
    "\n",
    "3. Fixed Number of Trials: The number of trials (n) is fixed and known in advance.\n",
    "\n",
    "4. Constant Probability: The probability of success (p) is constant for each trial. This means the probability of success does not change from trial to trial.\n",
    "\n",
    "5. Discrete Outcome: The random variable representing the number of successes takes on discrete values (whole numbers) from 0 to n.\n",
    "\n",
    "Examples of events where the Binomial distribution can be applied:\n",
    "\n",
    "1. Tossing a Coin: Consider flipping a fair coin (with heads as a success and tails as a failure). Each flip is an independent Bernoulli trial with a probability of success (getting heads) being 0.5 (p = 0.5). If we want to find the probability of getting a certain number of heads in a fixed number of coin flips (e.g., 3 heads in 5 coin flips), we can use the Binomial distribution.\n",
    "\n",
    "2. Product Quality Control: Suppose a factory produces a large number of products, and each product has a probability of being defective. The quality control team randomly selects a fixed number of products (n) from the production batch and inspects them for defects. The number of defective products among the inspected items follows a Binomial distribution with a certain probability of a product being defective (p). The team can use this distribution to calculate the likelihood of finding a specific number of defective products in the sample, which helps assess the quality of the production process.\n"
   ]
  },
  {
   "cell_type": "markdown",
   "id": "bbdacedd-a680-4c53-87df-a52b614a1b0b",
   "metadata": {},
   "source": [
    "Q5. Generate a random sample of size 1000 from a binomial distribution with probability of success 0.4\n",
    "and plot a histogram of the results using matplotlib."
   ]
  },
  {
   "cell_type": "code",
   "execution_count": 3,
   "id": "ed4dc52a-e56f-4a65-88b7-b48e0a9f7ce8",
   "metadata": {},
   "outputs": [
    {
     "data": {
      "image/png": "[encoded data removed]",
      "text/plain": [
       "<Figure size 640x480 with 1 Axes>"
      ]
     },
     "metadata": {},
     "output_type": "display_data"
    }
   ],
   "source": [
    "import numpy as np\n",
    "import matplotlib.pyplot as plt\n",
    "\n",
    "# Set the parameters\n",
    "sample_size = 1000\n",
    "probability_of_success = 0.4\n",
    "\n",
    "# Generate the random sample from the binomial distribution\n",
    "random_sample = np.random.binomial(1, probability_of_success, sample_size)\n",
    "\n",
    "# Plot the histogram\n",
    "plt.hist(random_sample, bins=[0, 1, 2], align='left', rwidth=0.8)\n",
    "plt.xticks([0, 1], ['Failure', 'Success'])\n",
    "plt.xlabel('Outcome')\n",
    "plt.ylabel('Frequency')\n",
    "plt.title('Binomial Distribution (n=1, p=0.4) - Random Sample of Size 1000')\n",
    "plt.show()\n"
   ]
  },
  {
   "cell_type": "markdown",
   "id": "ac23db40-35e3-4937-bf33-f0cefeb967c3",
   "metadata": {},
   "source": [
    "Q6. Write a Python function to calculate the cumulative distribution function of a Poisson distribution\n",
    "with given mean at a given point."
   ]
  },
  {
   "cell_type": "code",
   "execution_count": 4,
   "id": "e0d86a83-7682-4279-b326-61641bd382a7",
   "metadata": {},
   "outputs": [
    {
     "name": "stdout",
     "output_type": "stream",
     "text": [
      "The cumulative distribution function at 2 is: 0.32084719886213414\n"
     ]
    }
   ],
   "source": [
    "from scipy.stats import poisson\n",
    "\n",
    "def poisson_cdf(point, mean):\n",
    "    \"\"\"\n",
    "    Calculate the cumulative distribution function (CDF) of a Poisson distribution\n",
    "    at a given point with a given mean.\n",
    "\n",
    "    Parameters:\n",
    "        point (int or float): The point at which to calculate the CDF.\n",
    "        mean (float): The mean of the Poisson distribution.\n",
    "\n",
    "    Returns:\n",
    "        float: The cumulative distribution function value at the given point.\n",
    "    \"\"\"\n",
    "    if mean <= 0:\n",
    "        raise ValueError(\"Mean of the Poisson distribution must be positive.\")\n",
    "    \n",
    "    cdf_value = poisson.cdf(point, mean)\n",
    "    return cdf_value\n",
    "\n",
    "# Example usage:\n",
    "mean_value = 3.5  # Mean of the Poisson distribution\n",
    "point_value = 2   # Point at which to calculate the CDF\n",
    "cdf_value = poisson_cdf(point_value, mean_value)\n",
    "print(f\"The cumulative distribution function at {point_value} is: {cdf_value}\")\n"
   ]
  },
  {
   "cell_type": "markdown",
   "id": "781b2857-9710-4962-a567-547685698583",
   "metadata": {},
   "source": [
    "Q7. How Binomial distribution different from Poisson distribution?"
   ]
  },
  {
   "cell_type": "markdown",
   "id": "6e04dbdb-bce0-4ba4-ab73-4a24a1adc510",
   "metadata": {},
   "source": [
    "The Binomial distribution and Poisson distribution are both probability distributions used in statistics to model the number of successes in a fixed number of independent trials. However, they have some key differences in their assumptions and characteristics:\n",
    "\n",
    "1. Nature of Trials:\n",
    "   - Binomial Distribution: The Binomial distribution is used when the trials are independent and follow a constant probability of success (denoted by 'p') on each trial. Each trial can have only two outcomes: success (usually denoted as 1) or failure (usually denoted as 0).\n",
    "\n",
    "   - Poisson Distribution: The Poisson distribution is used to model the number of events that occur in a fixed interval of time or space. It is used when the events are rare and occur at a constant average rate (denoted by 'λ') in the given interval.\n",
    "\n",
    "2. Number of Trials:\n",
    "   - Binomial Distribution: The Binomial distribution requires a fixed number of independent trials, denoted by 'n', to be specified in advance.\n",
    "\n",
    "   - Poisson Distribution: The Poisson distribution deals with events occurring in a continuous interval, and the number of trials is not explicitly defined.\n",
    "\n",
    "3. Type of Random Variable:\n",
    "   - Binomial Distribution: The random variable in a Binomial distribution is discrete, as it represents the count of successes in a fixed number of trials.\n",
    "\n",
    "   - Poisson Distribution: The random variable in a Poisson distribution is also discrete, representing the number of events occurring in a fixed interval.\n",
    "\n",
    "4. Parameters:\n",
    "   - Binomial Distribution: The Binomial distribution is characterized by two parameters: 'n' (the number of trials) and 'p' (the probability of success on each trial).\n",
    "\n",
    "   - Poisson Distribution: The Poisson distribution is characterized by a single parameter: 'λ' (lambda), which is the average rate of events per interval.\n",
    "\n",
    "5. Shape and Limiting Cases:\n",
    "   - Binomial Distribution: As the number of trials ('n') increases, and the probability of success ('p') approaches zero while keeping the product 'np' constant, the Binomial distribution approaches the Poisson distribution.\n",
    "\n",
    "   - Poisson Distribution: The Poisson distribution is often used as an approximation of the Binomial distribution when the number of trials is large and the probability of success is small.\n"
   ]
  },
  {
   "cell_type": "markdown",
   "id": "cdec1553-f095-4292-9fd5-30bce5e6d566",
   "metadata": {},
   "source": [
    "Q8. Generate a random sample of size 1000 from a Poisson distribution with mean 5 and calculate the\n",
    "sample mean and variance."
   ]
  },
  {
   "cell_type": "code",
   "execution_count": 1,
   "id": "06a7aa32-b26a-4270-b1b1-6662cc3c9683",
   "metadata": {},
   "outputs": [
    {
     "name": "stdout",
     "output_type": "stream",
     "text": [
      "Sample Mean: 4.92\n",
      "Sample Variance: 4.7576\n"
     ]
    }
   ],
   "source": [
    "import numpy as np\n",
    "\n",
    "# Set the mean for the Poisson distribution\n",
    "mean = 5\n",
    "\n",
    "# Generate a random sample of size 1000 from the Poisson distribution\n",
    "sample = np.random.poisson(mean, size=1000)\n",
    "\n",
    "# Calculate the sample mean and variance\n",
    "sample_mean = np.mean(sample)\n",
    "sample_variance = np.var(sample)\n",
    "\n",
    "print(\"Sample Mean:\", sample_mean)\n",
    "print(\"Sample Variance:\", sample_variance)\n"
   ]
  },
  {
   "cell_type": "markdown",
   "id": "6145a798-d68c-49ae-a845-31af82302230",
   "metadata": {},
   "source": [
    "Q9. How mean and variance are related in Binomial distribution and Poisson distribution?"
   ]
  },
  {
   "cell_type": "markdown",
   "id": "9d7c1ff5-3498-4b2d-ab21-96c0bc55f9ca",
   "metadata": {},
   "source": [
    "The mean and variance of a probability distribution provide important information about the central tendency and the spread of the distribution, respectively. In both the Binomial distribution and the Poisson distribution, the relationship between the mean and variance is influenced by the specific characteristics of each distribution.\n",
    "\n",
    "1. Binomial Distribution:\n",
    "   - Mean: For a Binomial distribution with parameters 'n' (number of trials) and 'p' (probability of success on each trial), the mean (μ) is given by μ = n * p.\n",
    "\n",
    "   - Variance: The variance (σ^2) of the Binomial distribution is given by σ^2 = n * p * (1 - p).\n",
    "\n",
    "   - Relationship: In the Binomial distribution, the variance is directly related to both the number of trials ('n') and the probability of success ('p'). As 'n' and 'p' increase or decrease, the variance also changes proportionally. The variance is highest when 'p' is around 0.5, and it decreases as 'p' approaches either 0 or 1.\n",
    "\n",
    "2. Poisson Distribution:\n",
    "   - Mean: For a Poisson distribution with parameter 'λ' (lambda), the mean (μ) is equal to λ.\n",
    "\n",
    "   - Variance: The variance (σ^2) of the Poisson distribution is also equal to λ.\n",
    "\n",
    "   - Relationship: In the Poisson distribution, the variance is equal to the mean (λ). This is a unique property of the Poisson distribution and is not found in other common probability distributions. The fact that the mean and variance are equal in the Poisson distribution makes it especially useful for modeling rare events occurring at a constant average rate.\n"
   ]
  },
  {
   "cell_type": "markdown",
   "id": "d6c2ab8d-435e-43fc-99c9-ad49bd90ce46",
   "metadata": {},
   "source": [
    "Q10. In normal distribution with respect to mean position, where does the least frequent data appear?"
   ]
  },
  {
   "cell_type": "markdown",
   "id": "6471a025-d62e-4820-9187-d8024ab9b1cf",
   "metadata": {},
   "source": [
    "In a normal distribution, the least frequent data appears in the tails of the distribution, farthest from the mean. The normal distribution, also known as the Gaussian distribution, is a symmetric bell-shaped curve with the mean (μ) at its center.\n",
    "\n",
    "The properties of the normal distribution are such that the data become less frequent as they move away from the mean in both directions along the x-axis. The tails of the distribution represent the extreme values, and these extreme values occur less frequently than the values near the mean.\n",
    "\n",
    "Specifically:\n",
    "- Data values closer to the mean have a higher frequency of occurrence.\n",
    "- Data values that are moderately away from the mean have a moderate frequency of occurrence.\n",
    "- Data values in the tails, which are farthest from the mean, have the lowest frequency of occurrence.\n",
    "\n",
    "This characteristic of the normal distribution is essential in understanding the probabilities associated with different data points in the distribution. The probability density is highest at the mean and decreases as you move towards the tails. In a standard normal distribution (mean=0, standard deviation=1), about 68% of the data lies within one standard deviation of the mean, about 95% within two standard deviations, and about 99.7% within three standard deviations. This demonstrates how most data points are concentrated around the mean, and the farther away from the mean, the fewer data points you'll find."
   ]
  },
  {
   "cell_type": "code",
   "execution_count": null,
   "id": "866e268c-dfb6-4890-828d-5c28b16126bc",
   "metadata": {},
   "outputs": [],
   "source": []
  }
 ],
 "metadata": {
  "kernelspec": {
   "display_name": "Python 3 (ipykernel)",
   "language": "python",
   "name": "python3"
  },
  "language_info": {
   "codemirror_mode": {
    "name": "ipython",
    "version": 3
   },
   "file_extension": ".py",
   "mimetype": "text/x-python",
   "name": "python",
   "nbconvert_exporter": "python",
   "pygments_lexer": "ipython3",
   "version": "3.10.8"
  }
 },
 "nbformat": 4,
 "nbformat_minor": 5
}
