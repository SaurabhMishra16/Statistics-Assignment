{
 "cells": [
  {
   "cell_type": "markdown",
   "id": "5931e40c-cb9f-42fe-8762-77fa4ae8b174",
   "metadata": {},
   "source": [
    "Q1. Write a Python function that takes in two arrays of data and calculates the F-value for a variance ratio\n",
    "test. The function should return the F-value and the corresponding p-value for the test."
   ]
  },
  {
   "cell_type": "code",
   "execution_count": 1,
   "id": "e867ed7f-5ef4-48e9-9654-498f66591e5e",
   "metadata": {},
   "outputs": [
    {
     "name": "stdout",
     "output_type": "stream",
     "text": [
      "F-value: 1.02\n",
      "p-value: 0.4925745000732795\n"
     ]
    }
   ],
   "source": [
    "import numpy as np\n",
    "import scipy.stats as stats\n",
    "\n",
    "def variance_ratio_test(data1, data2):\n",
    "    \"\"\"\n",
    "    Perform a variance ratio test (F-test) on two arrays of data.\n",
    "    \n",
    "    Args:\n",
    "        data1 (array-like): First array of data.\n",
    "        data2 (array-like): Second array of data.\n",
    "        \n",
    "    Returns:\n",
    "        f_value (float): Calculated F-value.\n",
    "        p_value (float): Corresponding p-value for the test.\n",
    "    \"\"\"\n",
    "    # Calculate variances\n",
    "    var1 = np.var(data1, ddof=1)  # Use ddof=1 for sample variance\n",
    "    var2 = np.var(data2, ddof=1)\n",
    "    \n",
    "    # Calculate F-value\n",
    "    f_value = var1 / var2\n",
    "    \n",
    "    # Calculate degrees of freedom\n",
    "    df1 = len(data1) - 1\n",
    "    df2 = len(data2) - 1\n",
    "    \n",
    "    # Calculate p-value using F-distribution\n",
    "    p_value = 1 - stats.f.cdf(f_value, df1, df2)\n",
    "    \n",
    "    return f_value, p_value\n",
    "\n",
    "# Example usage\n",
    "data_group1 = [12, 15, 20, 18, 14]\n",
    "data_group2 = [10, 14, 16, 12, 18]\n",
    "\n",
    "f_value, p_value = variance_ratio_test(data_group1, data_group2)\n",
    "print(\"F-value:\", f_value)\n",
    "print(\"p-value:\", p_value)\n"
   ]
  },
  {
   "cell_type": "markdown",
   "id": "fb8ceee4-ab13-46aa-8438-3b043d02dda8",
   "metadata": {},
   "source": [
    "Q2. Given a significance level of 0.05 and the degrees of freedom for the numerator and denominator of an\n",
    "F-distribution, write a Python function that returns the critical F-value for a two-tailed test."
   ]
  },
  {
   "cell_type": "code",
   "execution_count": 2,
   "id": "d6eab99b-a8b9-4f49-91a9-3f330aa56188",
   "metadata": {},
   "outputs": [
    {
     "name": "stdout",
     "output_type": "stream",
     "text": [
      "Critical F-value (Lower): 0.07058467426541322\n",
      "Critical F-value (Upper): 3.8586986662732143\n"
     ]
    }
   ],
   "source": [
    "import scipy.stats as stats\n",
    "\n",
    "def critical_f_value(alpha, df_numerator, df_denominator):\n",
    "    \"\"\"\n",
    "    Calculate the critical F-value for a two-tailed test.\n",
    "    \n",
    "    Args:\n",
    "        alpha (float): Significance level (e.g., 0.05).\n",
    "        df_numerator (int): Degrees of freedom for the numerator.\n",
    "        df_denominator (int): Degrees of freedom for the denominator.\n",
    "        \n",
    "    Returns:\n",
    "        critical_f (float): Calculated critical F-value.\n",
    "    \"\"\"\n",
    "    # Calculate quantiles for the F-distribution\n",
    "    quantile_lower = alpha / 2\n",
    "    quantile_upper = 1 - alpha / 2\n",
    "    \n",
    "    # Calculate critical F-value using the percent point function (inverse of cumulative distribution function)\n",
    "    critical_f_lower = stats.f.ppf(quantile_lower, df_numerator, df_denominator)\n",
    "    critical_f_upper = stats.f.ppf(quantile_upper, df_numerator, df_denominator)\n",
    "    \n",
    "    return critical_f_lower, critical_f_upper\n",
    "\n",
    "# Example usage\n",
    "alpha = 0.05\n",
    "df_numerator = 3\n",
    "df_denominator = 20\n",
    "\n",
    "critical_f_lower, critical_f_upper = critical_f_value(alpha, df_numerator, df_denominator)\n",
    "print(\"Critical F-value (Lower):\", critical_f_lower)\n",
    "print(\"Critical F-value (Upper):\", critical_f_upper)\n"
   ]
  },
  {
   "cell_type": "markdown",
   "id": "40e5023f-31e1-4177-972f-a2c3e6bcc539",
   "metadata": {},
   "source": [
    "Q3. Write a Python program that generates random samples from two normal distributions with known\n",
    "variances and uses an F-test to determine if the variances are equal. The program should output the F-\n",
    "value, degrees of freedom, and p-value for the test."
   ]
  },
  {
   "cell_type": "code",
   "execution_count": 3,
   "id": "7abdfd1c-fa06-4edf-909b-356a295c889c",
   "metadata": {},
   "outputs": [
    {
     "name": "stdout",
     "output_type": "stream",
     "text": [
      "F-value: 0.5255560563745094\n",
      "Degrees of Freedom (numerator): 29\n",
      "Degrees of Freedom (denominator): 29\n",
      "p-value: 0.08858209761326556\n"
     ]
    }
   ],
   "source": [
    "import numpy as np\n",
    "import scipy.stats as stats\n",
    "\n",
    "def f_test_equal_variances(data1, data2):\n",
    "    \"\"\"\n",
    "    Perform an F-test to determine if the variances of two datasets are equal.\n",
    "    \n",
    "    Args:\n",
    "        data1 (array-like): First dataset.\n",
    "        data2 (array-like): Second dataset.\n",
    "        \n",
    "    Returns:\n",
    "        f_value (float): Calculated F-value.\n",
    "        df1 (int): Degrees of freedom for the numerator.\n",
    "        df2 (int): Degrees of freedom for the denominator.\n",
    "        p_value (float): Corresponding p-value for the test.\n",
    "    \"\"\"\n",
    "    # Calculate variances\n",
    "    var1 = np.var(data1, ddof=1)  # Use ddof=1 for sample variance\n",
    "    var2 = np.var(data2, ddof=1)\n",
    "    \n",
    "    # Calculate F-value\n",
    "    f_value = var1 / var2\n",
    "    \n",
    "    # Calculate degrees of freedom\n",
    "    df1 = len(data1) - 1\n",
    "    df2 = len(data2) - 1\n",
    "    \n",
    "    # Calculate p-value using F-distribution\n",
    "    p_value = 2 * min(stats.f.cdf(f_value, df1, df2), 1 - stats.f.cdf(f_value, df1, df2))\n",
    "    \n",
    "    return f_value, df1, df2, p_value\n",
    "\n",
    "# Generate random samples with known variances\n",
    "np.random.seed(42)\n",
    "sample_size = 30\n",
    "variance1 = 9  # Known variance for sample 1\n",
    "variance2 = 16  # Known variance for sample 2\n",
    "\n",
    "sample1 = np.random.normal(0, np.sqrt(variance1), sample_size)\n",
    "sample2 = np.random.normal(0, np.sqrt(variance2), sample_size)\n",
    "\n",
    "# Perform F-test\n",
    "f_value, df1, df2, p_value = f_test_equal_variances(sample1, sample2)\n",
    "print(\"F-value:\", f_value)\n",
    "print(\"Degrees of Freedom (numerator):\", df1)\n",
    "print(\"Degrees of Freedom (denominator):\", df2)\n",
    "print(\"p-value:\", p_value)\n"
   ]
  },
  {
   "cell_type": "markdown",
   "id": "2786b7f5-af23-40af-85b0-d1bd1b194e05",
   "metadata": {},
   "source": [
    "Q4.The variances of two populations are known to be 10 and 15. A sample of 12 observations is taken from\n",
    "each population. Conduct an F-test at the 5% significance level to determine if the variances are\n",
    "significantly different."
   ]
  },
  {
   "cell_type": "code",
   "execution_count": 4,
   "id": "e7517a9f-49ad-47b0-81a7-cffbca855a52",
   "metadata": {},
   "outputs": [
    {
     "name": "stdout",
     "output_type": "stream",
     "text": [
      "F-statistic: 1.5\n",
      "Degrees of Freedom (numerator): 11\n",
      "Degrees of Freedom (denominator): 11\n",
      "p-value: 0.5123897987357995\n",
      "At the 5.0% significance level, we fail to reject the null hypothesis.\n"
     ]
    }
   ],
   "source": [
    "import scipy.stats as stats\n",
    "\n",
    "# Given data\n",
    "variance1 = 10\n",
    "variance2 = 15\n",
    "sample_size = 12\n",
    "alpha = 0.05  # Significance level\n",
    "\n",
    "# Calculate the F-statistic\n",
    "f_statistic = variance2 / variance1\n",
    "\n",
    "# Degrees of freedom\n",
    "df1 = sample_size - 1\n",
    "df2 = sample_size - 1\n",
    "\n",
    "# Calculate the p-value\n",
    "p_value = 2 * min(stats.f.cdf(f_statistic, df1, df2), 1 - stats.f.cdf(f_statistic, df1, df2))\n",
    "\n",
    "# Determine if the result is significant based on the significance level\n",
    "if p_value < alpha:\n",
    "    result = \"reject\"\n",
    "else:\n",
    "    result = \"fail to reject\"\n",
    "\n",
    "# Output\n",
    "print(\"F-statistic:\", f_statistic)\n",
    "print(\"Degrees of Freedom (numerator):\", df2)\n",
    "print(\"Degrees of Freedom (denominator):\", df1)\n",
    "print(\"p-value:\", p_value)\n",
    "print(f\"At the {alpha*100}% significance level, we {result} the null hypothesis.\")\n"
   ]
  },
  {
   "cell_type": "markdown",
   "id": "4fa280f7-22a8-4517-b7b4-e46a1614fbb8",
   "metadata": {},
   "source": [
    "Q5. A manufacturer claims that the variance of the diameter of a certain product is 0.005. A sample of 25\n",
    "products is taken, and the sample variance is found to be 0.006. Conduct an F-test at the 1% significance\n",
    "level to determine if the claim is justified."
   ]
  },
  {
   "cell_type": "code",
   "execution_count": 5,
   "id": "776dcb94-0174-4e0d-9fd6-5819d4f0e2ae",
   "metadata": {},
   "outputs": [
    {
     "name": "stdout",
     "output_type": "stream",
     "text": [
      "F-statistic: 1.2\n",
      "Degrees of Freedom (numerator): 24\n",
      "Degrees of Freedom (denominator): 24\n",
      "p-value: 0.6587309365634488\n",
      "At the 1.0% significance level, we fail to reject the null hypothesis.\n"
     ]
    }
   ],
   "source": [
    "import scipy.stats as stats\n",
    "\n",
    "# Given data\n",
    "claimed_variance = 0.005\n",
    "sample_variance = 0.006\n",
    "sample_size = 25\n",
    "alpha = 0.01  # Significance level\n",
    "\n",
    "# Calculate the F-statistic\n",
    "f_statistic = sample_variance / claimed_variance\n",
    "\n",
    "# Degrees of freedom\n",
    "df1 = sample_size - 1\n",
    "df2 = sample_size - 1\n",
    "\n",
    "# Calculate the p-value\n",
    "p_value = 2 * min(stats.f.cdf(f_statistic, df1, df2), 1 - stats.f.cdf(f_statistic, df1, df2))\n",
    "\n",
    "# Determine if the result is significant based on the significance level\n",
    "if p_value < alpha:\n",
    "    result = \"reject\"\n",
    "else:\n",
    "    result = \"fail to reject\"\n",
    "\n",
    "# Output\n",
    "print(\"F-statistic:\", f_statistic)\n",
    "print(\"Degrees of Freedom (numerator):\", df2)\n",
    "print(\"Degrees of Freedom (denominator):\", df1)\n",
    "print(\"p-value:\", p_value)\n",
    "print(f\"At the {alpha*100}% significance level, we {result} the null hypothesis.\")\n"
   ]
  },
  {
   "cell_type": "markdown",
   "id": "2464c65c-dfad-4ddf-840a-0402e1cd492b",
   "metadata": {},
   "source": [
    "Q6. Write a Python function that takes in the degrees of freedom for the numerator and denominator of an\n",
    "F-distribution and calculates the mean and variance of the distribution. The function should return the\n",
    "mean and variance as a tuple."
   ]
  },
  {
   "cell_type": "code",
   "execution_count": 6,
   "id": "6f691762-fdcc-469f-a98f-257d1a4a7719",
   "metadata": {},
   "outputs": [
    {
     "name": "stdout",
     "output_type": "stream",
     "text": [
      "Mean: 1.25\n",
      "Variance: 1.3541666666666667\n"
     ]
    }
   ],
   "source": [
    "def f_distribution_mean_variance(df_numerator, df_denominator):\n",
    "    \"\"\"\n",
    "    Calculate the mean and variance of an F-distribution.\n",
    "    \n",
    "    Args:\n",
    "        df_numerator (int): Degrees of freedom for the numerator.\n",
    "        df_denominator (int): Degrees of freedom for the denominator.\n",
    "        \n",
    "    Returns:\n",
    "        mean (float): Mean of the F-distribution.\n",
    "        variance (float): Variance of the F-distribution.\n",
    "    \"\"\"\n",
    "    if df_numerator <= 0 or df_denominator <= 0:\n",
    "        raise ValueError(\"Degrees of freedom must be greater than 0.\")\n",
    "    \n",
    "    if df_denominator <= 2:\n",
    "        raise ValueError(\"Degrees of freedom for the denominator must be greater than 2.\")\n",
    "    \n",
    "    mean = df_denominator / (df_denominator - 2)\n",
    "    variance = (2 * (df_denominator**2) * (df_numerator + df_denominator - 2)) / (df_numerator * (df_denominator - 2)**2 * (df_denominator - 4))\n",
    "    \n",
    "    return mean, variance\n",
    "\n",
    "# Example usage\n",
    "df_numerator = 5\n",
    "df_denominator = 10\n",
    "\n",
    "mean, variance = f_distribution_mean_variance(df_numerator, df_denominator)\n",
    "print(\"Mean:\", mean)\n",
    "print(\"Variance:\", variance)\n"
   ]
  },
  {
   "cell_type": "markdown",
   "id": "b7e8d3f3-6ff2-4cb6-9238-614f76089d2b",
   "metadata": {},
   "source": [
    "Q7. A random sample of 10 measurements is taken from a normal population with unknown variance. The\n",
    "sample variance is found to be 25. Another random sample of 15 measurements is taken from another\n",
    "normal population with unknown variance, and the sample variance is found to be 20. Conduct an F-test\n",
    "at the 10% significance level to determine if the variances are significantly different."
   ]
  },
  {
   "cell_type": "code",
   "execution_count": 7,
   "id": "22290e91-b00d-4207-9039-39455716837c",
   "metadata": {},
   "outputs": [
    {
     "name": "stdout",
     "output_type": "stream",
     "text": [
      "F-statistic: 0.8\n",
      "Degrees of Freedom (numerator): 9\n",
      "Degrees of Freedom (denominator): 14\n",
      "p-value: 0.6832194382585943\n",
      "At the 10.0% significance level, we fail to reject the null hypothesis.\n"
     ]
    }
   ],
   "source": [
    "import scipy.stats as stats\n",
    "\n",
    "# Given data\n",
    "sample_variance1 = 25\n",
    "sample_variance2 = 20\n",
    "sample_size1 = 10\n",
    "sample_size2 = 15\n",
    "alpha = 0.10  # Significance level\n",
    "\n",
    "# Calculate the F-statistic\n",
    "f_statistic = sample_variance2 / sample_variance1\n",
    "\n",
    "# Degrees of freedom\n",
    "df1 = sample_size2 - 1\n",
    "df2 = sample_size1 - 1\n",
    "\n",
    "# Calculate the p-value\n",
    "p_value = 2 * min(stats.f.cdf(f_statistic, df1, df2), 1 - stats.f.cdf(f_statistic, df1, df2))\n",
    "\n",
    "# Determine if the result is significant based on the significance level\n",
    "if p_value < alpha:\n",
    "    result = \"reject\"\n",
    "else:\n",
    "    result = \"fail to reject\"\n",
    "\n",
    "# Output\n",
    "print(\"F-statistic:\", f_statistic)\n",
    "print(\"Degrees of Freedom (numerator):\", df2)\n",
    "print(\"Degrees of Freedom (denominator):\", df1)\n",
    "print(\"p-value:\", p_value)\n",
    "print(f\"At the {alpha*100}% significance level, we {result} the null hypothesis.\")\n"
   ]
  },
  {
   "cell_type": "markdown",
   "id": "654a0561-f660-41f9-aa72-50466a0092c4",
   "metadata": {},
   "source": [
    "Q8. The following data represent the waiting times in minutes at two different restaurants on a Saturday\n",
    "night: Restaurant A: 24, 25, 28, 23, 22, 20, 27; Restaurant B: 31, 33, 35, 30, 32, 36. Conduct an F-test at the 5%\n",
    "significance level to determine if the variances are significantly different."
   ]
  },
  {
   "cell_type": "code",
   "execution_count": 8,
   "id": "ff430373-f2b2-432d-a943-a8b20111cea6",
   "metadata": {},
   "outputs": [
    {
     "name": "stdout",
     "output_type": "stream",
     "text": [
      "F-statistic: 0.6871951219512196\n",
      "Degrees of Freedom (numerator): 5\n",
      "Degrees of Freedom (denominator): 6\n",
      "p-value: 0.6974815747937483\n",
      "At the 5.0% significance level, we fail to reject the null hypothesis.\n"
     ]
    }
   ],
   "source": [
    "import scipy.stats as stats\n",
    "\n",
    "# Given data\n",
    "data_a = [24, 25, 28, 23, 22, 20, 27]\n",
    "data_b = [31, 33, 35, 30, 32, 36]\n",
    "alpha = 0.05  # Significance level\n",
    "\n",
    "# Calculate the sample variances\n",
    "sample_variance_a = sum((x - sum(data_a) / len(data_a))**2 for x in data_a) / (len(data_a) - 1)\n",
    "sample_variance_b = sum((x - sum(data_b) / len(data_b))**2 for x in data_b) / (len(data_b) - 1)\n",
    "\n",
    "# Calculate the F-statistic\n",
    "f_statistic = sample_variance_b / sample_variance_a\n",
    "\n",
    "# Degrees of freedom\n",
    "df1 = len(data_b) - 1\n",
    "df2 = len(data_a) - 1\n",
    "\n",
    "# Calculate the p-value\n",
    "p_value = 2 * min(stats.f.cdf(f_statistic, df1, df2), 1 - stats.f.cdf(f_statistic, df1, df2))\n",
    "\n",
    "# Determine if the result is significant based on the significance level\n",
    "if p_value < alpha:\n",
    "    result = \"reject\"\n",
    "else:\n",
    "    result = \"fail to reject\"\n",
    "\n",
    "# Output\n",
    "print(\"F-statistic:\", f_statistic)\n",
    "print(\"Degrees of Freedom (numerator):\", df1)\n",
    "print(\"Degrees of Freedom (denominator):\", df2)\n",
    "print(\"p-value:\", p_value)\n",
    "print(f\"At the {alpha*100}% significance level, we {result} the null hypothesis.\")\n"
   ]
  },
  {
   "cell_type": "markdown",
   "id": "1981314d-2cf6-4c51-a2f9-f1bb39997dbf",
   "metadata": {},
   "source": [
    "Q9. The following data represent the test scores of two groups of students: Group A: 80, 85, 90, 92, 87, 83;\n",
    "Group B: 75, 78, 82, 79, 81, 84. Conduct an F-test at the 1% significance level to determine if the variances\n",
    "are significantly different."
   ]
  },
  {
   "cell_type": "code",
   "execution_count": 9,
   "id": "d9baee7e-6c0d-46b5-b653-c2a81f5fd5a1",
   "metadata": {},
   "outputs": [
    {
     "name": "stdout",
     "output_type": "stream",
     "text": [
      "F-statistic: 0.5143338954468801\n",
      "Degrees of Freedom (numerator): 5\n",
      "Degrees of Freedom (denominator): 5\n",
      "p-value: 0.48310435490706866\n",
      "At the 1.0% significance level, we fail to reject the null hypothesis.\n"
     ]
    }
   ],
   "source": [
    "import scipy.stats as stats\n",
    "\n",
    "# Given data\n",
    "group_a_scores = [80, 85, 90, 92, 87, 83]\n",
    "group_b_scores = [75, 78, 82, 79, 81, 84]\n",
    "alpha = 0.01  # Significance level\n",
    "\n",
    "# Calculate the sample variances\n",
    "sample_variance_a = sum((x - sum(group_a_scores) / len(group_a_scores))**2 for x in group_a_scores) / (len(group_a_scores) - 1)\n",
    "sample_variance_b = sum((x - sum(group_b_scores) / len(group_b_scores))**2 for x in group_b_scores) / (len(group_b_scores) - 1)\n",
    "\n",
    "# Calculate the F-statistic\n",
    "f_statistic = sample_variance_b / sample_variance_a\n",
    "\n",
    "# Degrees of freedom\n",
    "df1 = len(group_b_scores) - 1\n",
    "df2 = len(group_a_scores) - 1\n",
    "\n",
    "# Calculate the p-value\n",
    "p_value = 2 * min(stats.f.cdf(f_statistic, df1, df2), 1 - stats.f.cdf(f_statistic, df1, df2))\n",
    "\n",
    "# Determine if the result is significant based on the significance level\n",
    "if p_value < alpha:\n",
    "    result = \"reject\"\n",
    "else:\n",
    "    result = \"fail to reject\"\n",
    "\n",
    "# Output\n",
    "print(\"F-statistic:\", f_statistic)\n",
    "print(\"Degrees of Freedom (numerator):\", df1)\n",
    "print(\"Degrees of Freedom (denominator):\", df2)\n",
    "print(\"p-value:\", p_value)\n",
    "print(f\"At the {alpha*100}% significance level, we {result} the null hypothesis.\")\n"
   ]
  },
  {
   "cell_type": "code",
   "execution_count": null,
   "id": "841d160c-4b95-4f29-80c4-9892e002ca80",
   "metadata": {},
   "outputs": [],
   "source": []
  }
 ],
 "metadata": {
  "kernelspec": {
   "display_name": "Python 3 (ipykernel)",
   "language": "python",
   "name": "python3"
  },
  "language_info": {
   "codemirror_mode": {
    "name": "ipython",
    "version": 3
   },
   "file_extension": ".py",
   "mimetype": "text/x-python",
   "name": "python",
   "nbconvert_exporter": "python",
   "pygments_lexer": "ipython3",
   "version": "3.10.8"
  }
 },
 "nbformat": 4,
 "nbformat_minor": 5
}
